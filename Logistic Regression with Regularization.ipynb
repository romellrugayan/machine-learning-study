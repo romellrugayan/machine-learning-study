{
 "cells": [
  {
   "cell_type": "markdown",
   "metadata": {},
   "source": [
    "## Logistic Regression with Regularization\n",
    "<p> Based on Andrew Ng's lecture on Stanford Machine Learning</p>\n",
    "<p> A dataset has grades of students for 2 exams (exam-1 and exam-2) and is used to predict if the student can be admitted or not in the university."
   ]
  },
  {
   "cell_type": "code",
   "execution_count": 1,
   "metadata": {},
   "outputs": [],
   "source": [
    "# importing libraries\n",
    "import numpy as np\n",
    "import pandas as pd\n",
    "import matplotlib.pyplot as plt\n",
    "%matplotlib inline"
   ]
  },
  {
   "cell_type": "code",
   "execution_count": 240,
   "metadata": {},
   "outputs": [
    {
     "data": {
      "text/html": [
       "<div>\n",
       "<style scoped>\n",
       "    .dataframe tbody tr th:only-of-type {\n",
       "        vertical-align: middle;\n",
       "    }\n",
       "\n",
       "    .dataframe tbody tr th {\n",
       "        vertical-align: top;\n",
       "    }\n",
       "\n",
       "    .dataframe thead th {\n",
       "        text-align: right;\n",
       "    }\n",
       "</style>\n",
       "<table border=\"1\" class=\"dataframe\">\n",
       "  <thead>\n",
       "    <tr style=\"text-align: right;\">\n",
       "      <th></th>\n",
       "      <th>grade1</th>\n",
       "      <th>grade2</th>\n",
       "      <th>admission</th>\n",
       "    </tr>\n",
       "  </thead>\n",
       "  <tbody>\n",
       "    <tr>\n",
       "      <th>0</th>\n",
       "      <td>34.623660</td>\n",
       "      <td>78.024693</td>\n",
       "      <td>0</td>\n",
       "    </tr>\n",
       "    <tr>\n",
       "      <th>1</th>\n",
       "      <td>30.286711</td>\n",
       "      <td>43.894998</td>\n",
       "      <td>0</td>\n",
       "    </tr>\n",
       "    <tr>\n",
       "      <th>2</th>\n",
       "      <td>35.847409</td>\n",
       "      <td>72.902198</td>\n",
       "      <td>0</td>\n",
       "    </tr>\n",
       "    <tr>\n",
       "      <th>3</th>\n",
       "      <td>60.182599</td>\n",
       "      <td>86.308552</td>\n",
       "      <td>1</td>\n",
       "    </tr>\n",
       "    <tr>\n",
       "      <th>4</th>\n",
       "      <td>79.032736</td>\n",
       "      <td>75.344376</td>\n",
       "      <td>1</td>\n",
       "    </tr>\n",
       "  </tbody>\n",
       "</table>\n",
       "</div>"
      ],
      "text/plain": [
       "      grade1     grade2  admission\n",
       "0  34.623660  78.024693          0\n",
       "1  30.286711  43.894998          0\n",
       "2  35.847409  72.902198          0\n",
       "3  60.182599  86.308552          1\n",
       "4  79.032736  75.344376          1"
      ]
     },
     "execution_count": 240,
     "metadata": {},
     "output_type": "execute_result"
    }
   ],
   "source": [
    "# importing dataset\n",
    "df = pd.read_csv('data/ex2data1.csv')\n",
    "df.head()"
   ]
  },
  {
   "cell_type": "code",
   "execution_count": 282,
   "metadata": {},
   "outputs": [],
   "source": [
    "# extracting the training data to save into arrays\n",
    "X = df.iloc[:, 0:2].values\n",
    "y = df.iloc[:, 2:3].values"
   ]
  },
  {
   "cell_type": "code",
   "execution_count": 243,
   "metadata": {},
   "outputs": [
    {
     "data": {
      "text/plain": [
       "Text(0, 0.5, 'Grades for Exam-2')"
      ]
     },
     "execution_count": 243,
     "metadata": {},
     "output_type": "execute_result"
    },
    {
     "data": {
      "image/png": "[encoded data removed]",
      "text/plain": [
       "<Figure size 432x288 with 1 Axes>"
      ]
     },
     "metadata": {
      "needs_background": "light"
     },
     "output_type": "display_data"
    }
   ],
   "source": [
    "# plotting the training examples\n",
    "# find indeces for positive and negative examples\n",
    "pos = np.where(y == 1)\n",
    "neg = np.where(y == 0)\n",
    "\n",
    "plt.scatter(X[pos, 0], X[pos, 1], color='green', marker='o')\n",
    "plt.scatter(X[neg, 0], X[neg, 1], color='red', marker='x')\n",
    "plt.title('Students Admitted in the University')\n",
    "plt.xlabel('Grades for Exam-1')\n",
    "plt.ylabel('Grades for Exam-2')"
   ]
  },
  {
   "cell_type": "code",
   "execution_count": 285,
   "metadata": {},
   "outputs": [],
   "source": [
    "# normalize the training data\n",
    "def featureNormalize(X):\n",
    "    num_features = X.shape[1]\n",
    "    num_examples = X.shape[0]\n",
    "    X_norm = np.zeros((num_examples, num_features))\n",
    "    mu = np.zeros((1, num_features))\n",
    "    sigma = np.zeros((1, num_features))\n",
    "    \n",
    "    # calculate per feature\n",
    "    for j in range(num_features):\n",
    "        mu[0,j] = np.mean(X[:, j])\n",
    "        sigma[0,j] = np.std(X[:, j])\n",
    "        \n",
    "        for i in range(num_examples):\n",
    "            X_norm[i, j] = (X[i, j] - mu[0,j]) / sigma[0, j]\n",
    "                     \n",
    "    return X_norm, mu, sigma"
   ]
  },
  {
   "cell_type": "code",
   "execution_count": 294,
   "metadata": {},
   "outputs": [],
   "source": [
    "X_norm, mu, sigma = featureNormalize(X)"
   ]
  },
  {
   "cell_type": "code",
   "execution_count": 287,
   "metadata": {},
   "outputs": [],
   "source": [
    "# setting up the data matrix: m = no. of training examples, n = no. of features\n",
    "m = X.shape[0]\n",
    "\n",
    "# adding 1's to X\n",
    "X_train = np.concatenate((np.ones((m, 1)), X_norm), axis=1)\n"
   ]
  },
  {
   "cell_type": "code",
   "execution_count": 288,
   "metadata": {},
   "outputs": [],
   "source": [
    "# sigmoid function\n",
    "import math\n",
    "def sigmoid(z):\n",
    "    g = 1 / (1 + math.e**(-z))\n",
    "    return g"
   ]
  },
  {
   "cell_type": "code",
   "execution_count": 289,
   "metadata": {},
   "outputs": [],
   "source": [
    "# fuction to calculate cost function (J) and gradient\n",
    "def costFunction(X, y, theta, reg_lambda=0):\n",
    "    m = X.shape[0]\n",
    "    z = X.dot(theta)\n",
    "    h = sigmoid(z)\n",
    "    J = -(1/m)*np.sum(y*(np.log(h)) + (1 - y)*(np.log(1 - h))) + np.sum((reg_lambda/(2*m))*(theta[1:]**2))\n",
    "    return J"
   ]
  },
  {
   "cell_type": "code",
   "execution_count": 290,
   "metadata": {},
   "outputs": [],
   "source": [
    "def gradientDescent(X, y, theta, alpha, num_iters, reg_lambda=0):\n",
    "    m = X.shape[0]\n",
    "    J_history = np.zeros((num_iters, 1))\n",
    "    \n",
    "    for i in range(num_iters):\n",
    "        z = X.dot(theta)\n",
    "        h = sigmoid(z)\n",
    "        theta_new = np.concatenate((np.zeros((1,1)), theta[1:]),axis=0)\n",
    "        gradients = alpha*(1/m)*(X.T).dot(h - y) + (reg_lambda/m)*theta_new          \n",
    "        theta = theta - gradients   \n",
    "        J_history[i] = costFunction(X, y, theta, reg_lambda)\n",
    "    return theta, J_history "
   ]
  },
  {
   "cell_type": "code",
   "execution_count": 316,
   "metadata": {},
   "outputs": [
    {
     "name": "stdout",
     "output_type": "stream",
     "text": [
      "Minimum theta:\n",
      " [[0.01953233]\n",
      " [0.05495785]\n",
      " [0.049054  ]]\n",
      "Cost function, J: [0.66413602]\n"
     ]
    }
   ],
   "source": [
    "# initial value of theta\n",
    "n = X_train.shape[1]\n",
    "initial_theta = np.zeros((n, 1))\n",
    "\n",
    "# learning rate, number of iterations and lambda\n",
    "alpha = 0.01\n",
    "num_iters = 20\n",
    "reg_lambda = 0\n",
    "\n",
    "# calculate cost function and gradient descent\n",
    "[theta, J_history] = gradientDescent(X_train, y, initial_theta, alpha, num_iters, reg_lambda)\n",
    "\n",
    "print('Minimum theta:\\n', theta)\n",
    "print('Cost function, J:', J_history[num_iters-1])\n"
   ]
  },
  {
   "cell_type": "code",
   "execution_count": 324,
   "metadata": {},
   "outputs": [
    {
     "data": {
      "text/plain": [
       "[<matplotlib.lines.Line2D at 0xbed35f8>]"
      ]
     },
     "execution_count": 324,
     "metadata": {},
     "output_type": "execute_result"
    },
    {
     "data": {
      "image/png": "[encoded data removed]",
      "text/plain": [
       "<Figure size 432x288 with 1 Axes>"
      ]
     },
     "metadata": {
      "needs_background": "light"
     },
     "output_type": "display_data"
    }
   ],
   "source": [
    "# plotting the training examples\n",
    "# find indeces for positive and negative examples\n",
    "pos = np.where(y == 1)\n",
    "neg = np.where(y == 0)\n",
    "plt.scatter(X[pos, 0], X[pos, 1], color='green', marker='o')\n",
    "plt.scatter(X[neg, 0], X[neg, 1], color='red', marker='x')\n",
    "plt.title('Students Admitted in the University')\n",
    "plt.xlabel('Grades for Exam-1')\n",
    "plt.ylabel('Grades for Exam-2')\n",
    "\n",
    "# plotting the decision boundary\n",
    "xp = np.array([[min(X[:, 1])-1, max(X[:, 1])+1]]).T\n",
    "yp = (1/theta[1])*(theta[2]*xp + theta[0])\n",
    "temp0 = yp[0,0]\n",
    "temp1 = yp[1,0]\n",
    "ynew = np.array([[temp1], [temp0]])\n",
    "plt.plot(xp, ynew, color='blue')"
   ]
  },
  {
   "cell_type": "code",
   "execution_count": 311,
   "metadata": {},
   "outputs": [
    {
     "data": {
      "text/plain": [
       "array([0., 0., 0., 1., 1., 0., 1., 0., 1., 1., 1., 0., 1., 1., 0., 1., 0.,\n",
       "       0., 1., 1., 0., 1., 0., 0., 1., 1., 1., 1., 0., 0., 1., 1., 0., 0.,\n",
       "       0., 0., 1., 1., 0., 0., 1., 0., 1., 0., 0., 0., 1., 1., 1., 1., 1.,\n",
       "       1., 1., 0., 0., 0., 1., 1., 1., 1., 1., 0., 0., 0., 0., 0., 1., 0.,\n",
       "       1., 1., 0., 1., 1., 1., 1., 1., 1., 1., 0., 1., 1., 1., 1., 0., 1.,\n",
       "       1., 0., 1., 1., 0., 1., 1., 0., 1., 1., 1., 1., 1., 0., 1.])"
      ]
     },
     "execution_count": 311,
     "metadata": {},
     "output_type": "execute_result"
    }
   ],
   "source": [
    "# predicting the probability\n",
    "def predict(X, theta):\n",
    "    m = X.shape[0]\n",
    "    p = np.zeros((m,1))\n",
    "    z = X.dot(theta)\n",
    "    probability = sigmoid(z)\n",
    "    for i in range(m):\n",
    "        if (probability[i] >= 0.5):\n",
    "            p[i,0] = 1.0\n",
    "        else:\n",
    "            p[i,0] = 0.0\n",
    "    return p\n",
    "                \n",
    "p = predict(X_train, theta) \n",
    "p.ravel()"
   ]
  },
  {
   "cell_type": "markdown",
   "metadata": {},
   "source": [
    "### Using scikit-Learn"
   ]
  },
  {
   "cell_type": "code",
   "execution_count": 297,
   "metadata": {},
   "outputs": [
    {
     "data": {
      "text/plain": [
       "array([[-2.85831439,  0.05214733,  0.04531467]])"
      ]
     },
     "execution_count": 297,
     "metadata": {},
     "output_type": "execute_result"
    }
   ],
   "source": [
    "# adding 1's to X\n",
    "X_sci = np.concatenate((np.ones((m, 1)), X), axis=1)\n",
    "\n",
    "from sklearn.linear_model import LogisticRegression\n",
    "logmodel = LogisticRegression(solver='liblinear')\n",
    "logmodel.fit(X_sci, y.reshape(m))\n",
    "logmodel.coef_"
   ]
  },
  {
   "cell_type": "code",
   "execution_count": 260,
   "metadata": {},
   "outputs": [
    {
     "data": {
      "text/plain": [
       "array([0, 0, 0, 1, 1, 0, 1, 1, 1, 1, 1, 0, 1, 1, 0, 1, 1, 0, 1, 1, 0, 1,\n",
       "       0, 0, 1, 1, 1, 1, 0, 0, 1, 1, 0, 1, 0, 0, 1, 1, 1, 0, 1, 0, 1, 1,\n",
       "       0, 0, 1, 1, 1, 1, 1, 1, 1, 0, 0, 0, 1, 1, 1, 1, 1, 0, 0, 0, 0, 0,\n",
       "       1, 0, 1, 1, 0, 1, 1, 1, 1, 1, 1, 1, 0, 1, 1, 1, 1, 0, 1, 1, 1, 1,\n",
       "       1, 0, 1, 1, 0, 1, 1, 1, 1, 1, 1, 1], dtype=int64)"
      ]
     },
     "execution_count": 260,
     "metadata": {},
     "output_type": "execute_result"
    }
   ],
   "source": [
    "# predict values for the testing data\n",
    "predictions = logmodel.predict(X_sci)\n",
    "#print(predictions)\n",
    "predictions"
   ]
  },
  {
   "cell_type": "code",
   "execution_count": 261,
   "metadata": {},
   "outputs": [
    {
     "name": "stdout",
     "output_type": "stream",
     "text": [
      "              precision    recall  f1-score   support\n",
      "\n",
      "           0       0.97      0.80      0.88        40\n",
      "           1       0.88      0.98      0.93        60\n",
      "\n",
      "    accuracy                           0.91       100\n",
      "   macro avg       0.93      0.89      0.90       100\n",
      "weighted avg       0.92      0.91      0.91       100\n",
      "\n",
      "[[32  8]\n",
      " [ 1 59]]\n"
     ]
    }
   ],
   "source": [
    "# create classification report\n",
    "from sklearn.metrics import classification_report, confusion_matrix\n",
    "print(classification_report(y, predictions))\n",
    "print(confusion_matrix(y, predictions))"
   ]
  }
 ],
 "metadata": {
  "kernelspec": {
   "display_name": "Python 3",
   "language": "python",
   "name": "python3"
  },
  "language_info": {
   "codemirror_mode": {
    "name": "ipython",
    "version": 3
   },
   "file_extension": ".py",
   "mimetype": "text/x-python",
   "name": "python",
   "nbconvert_exporter": "python",
   "pygments_lexer": "ipython3",
   "version": "3.7.3"
  }
 },
 "nbformat": 4,
 "nbformat_minor": 2
}
