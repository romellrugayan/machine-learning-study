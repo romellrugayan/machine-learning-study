{
 "cells": [
  {
   "cell_type": "markdown",
   "metadata": {},
   "source": [
    "## Creating Arrays and Matrices in Python"
   ]
  },
  {
   "cell_type": "code",
   "execution_count": 2,
   "metadata": {},
   "outputs": [],
   "source": [
    "# importing Numerical Python Library\n",
    "import numpy as np"
   ]
  },
  {
   "cell_type": "code",
   "execution_count": 4,
   "metadata": {},
   "outputs": [
    {
     "name": "stdout",
     "output_type": "stream",
     "text": [
      "One-dimensional array from list: [1 2 3 4 5]\n"
     ]
    }
   ],
   "source": [
    "# creating from list\n",
    "a_list = [1, 2, 3, 4, 5]\n",
    "\n",
    "A = np.array(a_list)\n",
    "\n",
    "print ('One-dimensional array from list:', A)"
   ]
  },
  {
   "cell_type": "code",
   "execution_count": 5,
   "metadata": {},
   "outputs": [
    {
     "name": "stdout",
     "output_type": "stream",
     "text": [
      "One-dimensional array from tuple: [5 6 7 8 9]\n"
     ]
    }
   ],
   "source": [
    "# creating from tuple\n",
    "b_tuple = (5, 6, 7, 8, 9)\n",
    "\n",
    "B = np.array(b_tuple)\n",
    "\n",
    "print('One-dimensional array from tuple:', B)"
   ]
  },
  {
   "cell_type": "code",
   "execution_count": 7,
   "metadata": {},
   "outputs": [
    {
     "name": "stdout",
     "output_type": "stream",
     "text": [
      "One-dimensional array: [1 2 3 4]\n",
      "Two-dimensional array:\n",
      " [[1 2 3]\n",
      " [4 5 6]]\n"
     ]
    }
   ],
   "source": [
    "# by calling array function and directly assigning elements\n",
    "# one-dimensional array\n",
    "X_1d = np.array([1, 2, 3, 4])\n",
    "\n",
    "# two-dimensional array\n",
    "X_2d = np.array([[1, 2, 3], [4, 5, 6]])\n",
    "\n",
    "print('One-dimensional array:', X_1d)    # notice a sigle-pair square brackets for 1-dimensional array\n",
    "print('Two-dimensional array:\\n', X_2d)  # notice a two-pair square brackets for 2-dimensional array "
   ]
  },
  {
   "cell_type": "code",
   "execution_count": 12,
   "metadata": {},
   "outputs": [
    {
     "name": "stdout",
     "output_type": "stream",
     "text": [
      "1-dimensional array with 10 elements: [0 1 2 3 4 5 6 7 8 9]\n",
      "1-dimensional array starting from 0 to (5-1): [0 1 2 3 4]\n"
     ]
    }
   ],
   "source": [
    "# by np.arange function to instantiate with pre-defined no. of elements\n",
    "# 1-dimensional array with 10 elements\n",
    "C = np.arange(10)\n",
    "\n",
    "# 1-dimensional array starting with 0 and 4\n",
    "D = np.arange(0, 5)\n",
    "\n",
    "print('1-dimensional array with 10 elements:', C)\n",
    "print('1-dimensional array starting from 0 to 4:', D)"
   ]
  },
  {
   "cell_type": "code",
   "execution_count": 38,
   "metadata": {},
   "outputs": [
    {
     "name": "stdout",
     "output_type": "stream",
     "text": [
      "1-dimensional array: [ 0.  2.  4.  6.  8. 10.]\n",
      "float32\n"
     ]
    }
   ],
   "source": [
    "# using np.arange function with specified step and dtype\n",
    "E = np.arange(0, 11, 2, dtype='float32')\n",
    "\n",
    "print('1-dimensional array:', E)\n",
    "print(E.dtype)"
   ]
  },
  {
   "cell_type": "code",
   "execution_count": 29,
   "metadata": {},
   "outputs": [
    {
     "name": "stdout",
     "output_type": "stream",
     "text": [
      "1-dimensional array with 0s:\n",
      " [0. 0. 0. 0. 0.]\n",
      "\n",
      "2-dimensional array with 0s:\n",
      " [[0. 0. 0.]\n",
      " [0. 0. 0.]\n",
      " [0. 0. 0.]]\n",
      "\n",
      "2-dimensional array with 1s:\n",
      " [[1 1 1 1]\n",
      " [1 1 1 1]]\n"
     ]
    }
   ],
   "source": [
    "# creating array with zeros or ones with specified array size, default type is 'float'\n",
    "y_zeros = np.zeros((5))\n",
    "\n",
    "X_zeros = np.zeros((3, 3))\n",
    "\n",
    "X_ones = np.ones((2, 4), dtype='int32')\n",
    "\n",
    "print('1-dimensional array with 0s:\\n', y_zeros)\n",
    "print('\\n2-dimensional array with 0s:\\n',X_zeros)\n",
    "print('\\n2-dimensional array with 1s:\\n',X_ones)"
   ]
  },
  {
   "cell_type": "code",
   "execution_count": 87,
   "metadata": {},
   "outputs": [
    {
     "name": "stdout",
     "output_type": "stream",
     "text": [
      "1-dimensional array from 0 to 5 with n=11:\n",
      " [0.  0.5 1.  1.5 2.  2.5 3.  3.5 4.  4.5 5. ]\n"
     ]
    }
   ],
   "source": [
    "# using np.linspace fuction to create required no. of elements from the start to end\n",
    "arr1 = np.linspace(0, 5, 11)\n",
    "\n",
    "print('1-dimensional array from 0 to 5 with n=11:\\n', arr1)"
   ]
  },
  {
   "cell_type": "markdown",
   "metadata": {},
   "source": [
    "## Shape Manipulation"
   ]
  },
  {
   "cell_type": "code",
   "execution_count": 61,
   "metadata": {},
   "outputs": [
    {
     "name": "stdout",
     "output_type": "stream",
     "text": [
      "Shape of arr1:  (11,)\n",
      "Notice the array construction with comma after number of elements.       \n",
      "This is not qualified as row vector in matrix operation in Python\n"
     ]
    }
   ],
   "source": [
    "# determining the shape of array using shape property\n",
    "print('Shape of arr1: ', arr1.shape)\n",
    "print('Notice the array construction with comma after number of elements.\\\n",
    "       \\nThis is not qualified as row vector in matrix operation in Python')"
   ]
  },
  {
   "cell_type": "code",
   "execution_count": 52,
   "metadata": {},
   "outputs": [
    {
     "name": "stdout",
     "output_type": "stream",
     "text": [
      "Reshape array to vector:\n",
      " [[0.  0.5 1.  1.5 2.  2.5 3.  3.5 4.  4.5 5. ]]\n",
      "\n",
      "Shape of new vector: (1, 11)\n"
     ]
    }
   ],
   "source": [
    "# to make the array considered as row vector in matrix operation, reshape it to 1-dimensional matrix\n",
    "arr1_vec = arr1.reshape(1,11)\n",
    "\n",
    "print('Reshape array to vector:\\n', arr1_vec)\n",
    "print('\\nShape of new vector:', arr1_vec.shape)"
   ]
  },
  {
   "cell_type": "code",
   "execution_count": 54,
   "metadata": {},
   "outputs": [
    {
     "name": "stdout",
     "output_type": "stream",
     "text": [
      "[[0. ]\n",
      " [0.5]\n",
      " [1. ]\n",
      " [1.5]\n",
      " [2. ]\n",
      " [2.5]\n",
      " [3. ]\n",
      " [3.5]\n",
      " [4. ]\n",
      " [4.5]\n",
      " [5. ]]\n"
     ]
    }
   ],
   "source": [
    "# to make arr1 as column vector\n",
    "arr1_col = arr1.reshape(11,1)\n",
    "\n",
    "print(arr1_col)"
   ]
  },
  {
   "cell_type": "code",
   "execution_count": 78,
   "metadata": {},
   "outputs": [
    {
     "name": "stdout",
     "output_type": "stream",
     "text": [
      "[[ 0  1  2  3  4]\n",
      " [ 5  6  7  8  9]\n",
      " [10 11 12 13 14]\n",
      " [15 16 17 18 19]]\n"
     ]
    }
   ],
   "source": [
    "# to create 1-dimensional array and reshape into 2-dimensional array\n",
    "arr2 = np.arange(20).reshape(4, 5)\n",
    "\n",
    "print(arr2)"
   ]
  },
  {
   "cell_type": "code",
   "execution_count": 141,
   "metadata": {},
   "outputs": [
    {
     "data": {
      "text/plain": [
       "array([ 0,  1,  2,  3,  4,  5,  6,  7,  8,  9, 10, 11, 12, 13, 14, 15, 16,\n",
       "       17, 18, 19])"
      ]
     },
     "execution_count": 141,
     "metadata": {},
     "output_type": "execute_result"
    }
   ],
   "source": [
    "# to flatten the mxn-array\n",
    "arr2.ravel()\n"
   ]
  },
  {
   "cell_type": "code",
   "execution_count": 154,
   "metadata": {},
   "outputs": [
    {
     "data": {
      "text/plain": [
       "array([[0, 1],\n",
       "       [2, 3],\n",
       "       [4, 5],\n",
       "       [6, 7],\n",
       "       [8, 9]])"
      ]
     },
     "execution_count": 154,
     "metadata": {},
     "output_type": "execute_result"
    }
   ],
   "source": [
    "# to resize array to smaller size\n",
    "np.resize(arr2, (5,2))\n"
   ]
  },
  {
   "cell_type": "code",
   "execution_count": 155,
   "metadata": {},
   "outputs": [
    {
     "data": {
      "text/plain": [
       "array([[ 0,  1,  2,  3,  4,  5],\n",
       "       [ 6,  7,  8,  9, 10, 11],\n",
       "       [12, 13, 14, 15, 16, 17],\n",
       "       [18, 19,  0,  1,  2,  3],\n",
       "       [ 4,  5,  6,  7,  8,  9],\n",
       "       [10, 11, 12, 13, 14, 15]])"
      ]
     },
     "execution_count": 155,
     "metadata": {},
     "output_type": "execute_result"
    }
   ],
   "source": [
    "# to resize array to larger size\n",
    "np.resize(arr2, (6,6))"
   ]
  },
  {
   "cell_type": "markdown",
   "metadata": {},
   "source": [
    "## Accessing Array / Matrix Element"
   ]
  },
  {
   "cell_type": "code",
   "execution_count": 63,
   "metadata": {},
   "outputs": [
    {
     "name": "stdout",
     "output_type": "stream",
     "text": [
      "Element at arr2[1,1]: 6\n"
     ]
    }
   ],
   "source": [
    "# to access element '6' in arr2 : second row (row-index=1) and second column (col-index=1)\n",
    "elem = arr2[1, 1]\n",
    "\n",
    "print('Element at arr2[1,1]:', elem)"
   ]
  },
  {
   "cell_type": "code",
   "execution_count": 81,
   "metadata": {},
   "outputs": [
    {
     "data": {
      "text/plain": [
       "array([[ 7],\n",
       "       [12]])"
      ]
     },
     "execution_count": 81,
     "metadata": {},
     "output_type": "execute_result"
    }
   ],
   "source": [
    "# to get elements from 2nd & 3rd rows of 3rd column\n",
    "arr_sub0 = arr2[1:3, 2:3]\n",
    "arr_sub0"
   ]
  },
  {
   "cell_type": "code",
   "execution_count": 65,
   "metadata": {},
   "outputs": [
    {
     "data": {
      "text/plain": [
       "array([[ 0,  1,  2],\n",
       "       [ 5,  6,  7],\n",
       "       [10, 11, 12],\n",
       "       [15, 16, 17]])"
      ]
     },
     "execution_count": 65,
     "metadata": {},
     "output_type": "execute_result"
    }
   ],
   "source": [
    "# to get all elements from 1st to 3rd column\n",
    "arr2_sub1 = arr2[:, :3]\n",
    "arr2_sub1"
   ]
  },
  {
   "cell_type": "code",
   "execution_count": 67,
   "metadata": {},
   "outputs": [
    {
     "data": {
      "text/plain": [
       "array([[ 3,  4],\n",
       "       [ 8,  9],\n",
       "       [13, 14],\n",
       "       [18, 19]])"
      ]
     },
     "execution_count": 67,
     "metadata": {},
     "output_type": "execute_result"
    }
   ],
   "source": [
    "# to get all elements from 4th to last column\n",
    "arr2_sub2 = arr2[:, 3:]\n",
    "arr2_sub2"
   ]
  },
  {
   "cell_type": "code",
   "execution_count": 74,
   "metadata": {},
   "outputs": [
    {
     "data": {
      "text/plain": [
       "array([[ 1,  2,  3],\n",
       "       [ 6,  7,  8],\n",
       "       [11, 12, 13],\n",
       "       [16, 17, 18]])"
      ]
     },
     "execution_count": 74,
     "metadata": {},
     "output_type": "execute_result"
    }
   ],
   "source": [
    "# to get all elements from 2nd to 4th column\n",
    "arr2_sub3 = arr2[:, 1:4]\n",
    "arr2_sub3"
   ]
  },
  {
   "cell_type": "code",
   "execution_count": 71,
   "metadata": {},
   "outputs": [
    {
     "data": {
      "text/plain": [
       "array([[ 0,  1,  2,  3],\n",
       "       [ 5,  6,  7,  8],\n",
       "       [10, 11, 12, 13],\n",
       "       [15, 16, 17, 18]])"
      ]
     },
     "execution_count": 71,
     "metadata": {},
     "output_type": "execute_result"
    }
   ],
   "source": [
    "# to get all columns except the last one\n",
    "arr2_sub4 = arr2[:, :-1]\n",
    "arr2_sub4"
   ]
  },
  {
   "cell_type": "code",
   "execution_count": 83,
   "metadata": {},
   "outputs": [
    {
     "data": {
      "text/plain": [
       "array([[0, 1, 2, 3, 4],\n",
       "       [5, 6, 7, 8, 9]])"
      ]
     },
     "execution_count": 83,
     "metadata": {},
     "output_type": "execute_result"
    }
   ],
   "source": [
    "# to get the firt 2-rows\n",
    "arr2_sub5 = arr2[:2, :]\n",
    "arr2_sub5"
   ]
  },
  {
   "cell_type": "code",
   "execution_count": 86,
   "metadata": {},
   "outputs": [
    {
     "data": {
      "text/plain": [
       "array([[ 4],\n",
       "       [ 9],\n",
       "       [14],\n",
       "       [19]])"
      ]
     },
     "execution_count": 86,
     "metadata": {},
     "output_type": "execute_result"
    }
   ],
   "source": [
    "# to get last column\n",
    "arr2_sub6 = arr2[:, 4:5]\n",
    "arr2_sub6"
   ]
  },
  {
   "cell_type": "markdown",
   "metadata": {},
   "source": [
    "## Matrix Operation"
   ]
  },
  {
   "cell_type": "markdown",
   "metadata": {},
   "source": [
    "### Addition\n",
    "Note: Same rules will be applied to Subtraction of matrices"
   ]
  },
  {
   "cell_type": "code",
   "execution_count": 91,
   "metadata": {},
   "outputs": [
    {
     "name": "stdout",
     "output_type": "stream",
     "text": [
      "Scalar, y = 100\n",
      "Row vector, Ah = [0 1 2 3 4]\n",
      "Ah + y :  [100 101 102 103 104]\n"
     ]
    }
   ],
   "source": [
    "# adding scalar to row vector : scalar is added to every element of vector\n",
    "y = 100\n",
    "Ah = np.arange(5)\n",
    "print('Scalar, y =', y)\n",
    "print('Row vector, Ah =', Ah)\n",
    "print('Ah + y : ', (Ah + y))"
   ]
  },
  {
   "cell_type": "code",
   "execution_count": 94,
   "metadata": {},
   "outputs": [
    {
     "name": "stdout",
     "output_type": "stream",
     "text": [
      "Column vector, Av:\n",
      " [[0]\n",
      " [1]\n",
      " [2]\n",
      " [3]\n",
      " [4]]\n",
      "Av + y:\n",
      " [[100]\n",
      " [101]\n",
      " [102]\n",
      " [103]\n",
      " [104]]\n"
     ]
    }
   ],
   "source": [
    "# adding scalar to column vector : scalar is added to every element of vector\n",
    "Av = Ah.reshape(5,1)\n",
    "print('Column vector, Av:\\n', Av)\n",
    "print('Av + y:\\n', (Av + y))"
   ]
  },
  {
   "cell_type": "code",
   "execution_count": 97,
   "metadata": {},
   "outputs": [
    {
     "name": "stdout",
     "output_type": "stream",
     "text": [
      "2d matrix, W:\n",
      " [[0 1]\n",
      " [2 3]\n",
      " [4 5]\n",
      " [6 7]]\n",
      "W + y:\n",
      " [[100 101]\n",
      " [102 103]\n",
      " [104 105]\n",
      " [106 107]]\n"
     ]
    }
   ],
   "source": [
    "# adding scalar to 2-dimensional matrix : element-wise addition, scalar is added to every element of a matrix\n",
    "W = np.arange(8).reshape(4,2)\n",
    "print('2d matrix, W:\\n', W)\n",
    "print('W + y:\\n', (W + y))"
   ]
  },
  {
   "cell_type": "code",
   "execution_count": 107,
   "metadata": {},
   "outputs": [
    {
     "name": "stdout",
     "output_type": "stream",
     "text": [
      "Column vector, u (4x1):\n",
      " [[1]\n",
      " [2]\n",
      " [3]\n",
      " [4]]\n",
      "2d matrix, v (4x2):\n",
      " [[1 2]\n",
      " [3 4]\n",
      " [5 6]\n",
      " [7 8]]\n",
      "u + v (4x2):\n",
      " [[ 2  3]\n",
      " [ 5  6]\n",
      " [ 8  9]\n",
      " [11 12]]\n"
     ]
    }
   ],
   "source": [
    "# adding a vector and 2d-matrix : element-wise addition, element of vector is added to every element of 2d matrix\n",
    "u = np.arange(1,5).reshape(4,1)\n",
    "v = np.arange(1,9).reshape(4,2)\n",
    "print('Column vector, u (4x1):\\n', u)\n",
    "print('2d matrix, v (4x2):\\n', v)\n",
    "print('u + v (4x2):\\n', (u + v))"
   ]
  },
  {
   "cell_type": "code",
   "execution_count": 111,
   "metadata": {},
   "outputs": [
    {
     "name": "stdout",
     "output_type": "stream",
     "text": [
      "matrix x (4x2):\n",
      " [[1 1]\n",
      " [1 1]\n",
      " [1 1]\n",
      " [1 1]]\n",
      "matrix y (4x2):\n",
      " [[1 2]\n",
      " [3 4]\n",
      " [5 6]\n",
      " [7 8]]\n",
      "x + y (4x2):\n",
      " [[2 3]\n",
      " [4 5]\n",
      " [6 7]\n",
      " [8 9]]\n"
     ]
    }
   ],
   "source": [
    "# adding 2 matrices with equal shape : element-wise addition   \n",
    "x = np.ones((4,2), dtype='int32')\n",
    "y = np.arange(1,9).reshape(4,2)\n",
    "print('matrix x (4x2):\\n', x)\n",
    "print('matrix y (4x2):\\n', y)\n",
    "print('x + y (4x2):\\n', (x + y))"
   ]
  },
  {
   "cell_type": "markdown",
   "metadata": {},
   "source": [
    "### Multiplication"
   ]
  },
  {
   "cell_type": "code",
   "execution_count": 116,
   "metadata": {},
   "outputs": [
    {
     "name": "stdout",
     "output_type": "stream",
     "text": [
      "b (4x1):\n",
      " [[1]\n",
      " [2]\n",
      " [3]\n",
      " [4]]\n",
      "b x a (4x1):\n",
      " [[10]\n",
      " [20]\n",
      " [30]\n",
      " [40]]\n"
     ]
    }
   ],
   "source": [
    "# multiplying scalar to vector : scalar is multiplied to every element of a vector\n",
    "a = 10\n",
    "b = np.arange(1,5).reshape(4,1)\n",
    "print('b (4x1):\\n', b)\n",
    "print ('b x a (4x1):\\n', (b*a))"
   ]
  },
  {
   "cell_type": "code",
   "execution_count": 119,
   "metadata": {},
   "outputs": [
    {
     "name": "stdout",
     "output_type": "stream",
     "text": [
      "b (4x1):\n",
      " [[1]\n",
      " [2]\n",
      " [3]\n",
      " [4]]\n",
      "c (4x1):\n",
      " [[10]\n",
      " [20]\n",
      " [30]\n",
      " [40]]\n",
      "b x c (4x1):\n",
      " [[ 10]\n",
      " [ 40]\n",
      " [ 90]\n",
      " [160]]\n"
     ]
    }
   ],
   "source": [
    "# multiplying 2-vectors with same shape : element-wise multiplication\n",
    "c = np.arange(10,50, 10).reshape(4,1)\n",
    "print('b (4x1):\\n', b)\n",
    "print('c (4x1):\\n', c)\n",
    "print('b x c (4x1):\\n', (b*c))"
   ]
  },
  {
   "cell_type": "code",
   "execution_count": 125,
   "metadata": {},
   "outputs": [
    {
     "name": "stdout",
     "output_type": "stream",
     "text": [
      "b-transpose (1x4): [[1 2 3 4]]\n",
      "c (4x1):\n",
      " [[10]\n",
      " [20]\n",
      " [30]\n",
      " [40]]\n",
      "b.T.dot(c) : [[300]]\n"
     ]
    }
   ],
   "source": [
    "# to get the sum of all elements of the product of b and c vectors above, transpose b vector then dot multiply by c\n",
    "# this will match the b-column with c-rows, the result is 1x1\n",
    "bc = (b.T).dot(c)\n",
    "print('b-transpose (1x4):', b.T)\n",
    "print('c (4x1):\\n', c)\n",
    "print('b.T.dot(c) :', bc)"
   ]
  },
  {
   "cell_type": "code",
   "execution_count": 131,
   "metadata": {},
   "outputs": [
    {
     "name": "stdout",
     "output_type": "stream",
     "text": [
      "x (4x2):\n",
      " [[1 2]\n",
      " [3 4]\n",
      " [5 6]\n",
      " [7 8]]\n",
      "y (2x2):\n",
      " [[1 2]\n",
      " [3 4]]\n",
      "x .dot (y) (4x2):\n",
      " [[ 7 10]\n",
      " [15 22]\n",
      " [23 34]\n",
      " [31 46]]\n"
     ]
    }
   ],
   "source": [
    "# m : no.of rows,  n : no. of columns\n",
    "# for multiplication of 2-matrices, the n of 1st matrix  = m of the 2nd matrix, the product has dimension: m of 1st x n of 2nd\n",
    "x = np.arange(1,9).reshape(4,2)\n",
    "y = np.arange(1,5).reshape(2,2)\n",
    "\n",
    "# to multiply 2-matrices with different shape(i,e. 4x2 * 2x2), use .dot operator\n",
    "z = x.dot(y)\n",
    "\n",
    "print('x (4x2):\\n', x)\n",
    "print('y (2x2):\\n', y)\n",
    "print('x .dot (y) (4x2):\\n', z)"
   ]
  },
  {
   "cell_type": "markdown",
   "metadata": {},
   "source": [
    "### Division"
   ]
  },
  {
   "cell_type": "code",
   "execution_count": 138,
   "metadata": {},
   "outputs": [
    {
     "name": "stdout",
     "output_type": "stream",
     "text": [
      "x.dot(1/y) :\n",
      " [[1.66666667 1.        ]\n",
      " [4.33333333 2.5       ]\n",
      " [7.         4.        ]\n",
      " [9.66666667 5.5       ]]\n"
     ]
    }
   ],
   "source": [
    "# Division of matrices will follow same rules as multiplication.\n",
    "# Dot product can be applied by using 1/matrix\n",
    "z = x.dot(1/y)\n",
    "print('x.dot(1/y) :\\n', z)"
   ]
  },
  {
   "cell_type": "markdown",
   "metadata": {},
   "source": [
    "## Linear Algeabra"
   ]
  },
  {
   "cell_type": "code",
   "execution_count": 160,
   "metadata": {},
   "outputs": [
    {
     "data": {
      "text/plain": [
       "array([[1, 2, 3],\n",
       "       [4, 5, 6],\n",
       "       [7, 8, 9]])"
      ]
     },
     "execution_count": 160,
     "metadata": {},
     "output_type": "execute_result"
    }
   ],
   "source": [
    "# create 3x3 matrix\n",
    "X = np.arange(1,10).reshape(3,3)\n",
    "X"
   ]
  },
  {
   "cell_type": "code",
   "execution_count": 161,
   "metadata": {},
   "outputs": [
    {
     "data": {
      "text/plain": [
       "array([[1, 4, 7],\n",
       "       [2, 5, 8],\n",
       "       [3, 6, 9]])"
      ]
     },
     "execution_count": 161,
     "metadata": {},
     "output_type": "execute_result"
    }
   ],
   "source": [
    "# transpose the matrix by mirroring at the diagonal\n",
    "X.T"
   ]
  },
  {
   "cell_type": "code",
   "execution_count": 162,
   "metadata": {},
   "outputs": [
    {
     "data": {
      "text/plain": [
       "array([[ 3.15251974e+15, -6.30503948e+15,  3.15251974e+15],\n",
       "       [-6.30503948e+15,  1.26100790e+16, -6.30503948e+15],\n",
       "       [ 3.15251974e+15, -6.30503948e+15,  3.15251974e+15]])"
      ]
     },
     "execution_count": 162,
     "metadata": {},
     "output_type": "execute_result"
    }
   ],
   "source": [
    "# matrix inverse - only for square matrix\n",
    "np.linalg.inv(X)"
   ]
  },
  {
   "cell_type": "code",
   "execution_count": 167,
   "metadata": {},
   "outputs": [
    {
     "data": {
      "text/plain": [
       "array([[-6.38888889e-01, -1.66666667e-01,  3.05555556e-01],\n",
       "       [-5.55555556e-02,  1.38777878e-16,  5.55555556e-02],\n",
       "       [ 5.27777778e-01,  1.66666667e-01, -1.94444444e-01]])"
      ]
     },
     "execution_count": 167,
     "metadata": {},
     "output_type": "execute_result"
    }
   ],
   "source": [
    "# to apply pseudo-inverse matrix\n",
    "np.linalg.pinv(X)"
   ]
  },
  {
   "cell_type": "code",
   "execution_count": 165,
   "metadata": {},
   "outputs": [
    {
     "data": {
      "text/plain": [
       "array([[1., 0., 0.],\n",
       "       [0., 1., 0.],\n",
       "       [0., 0., 1.]])"
      ]
     },
     "execution_count": 165,
     "metadata": {},
     "output_type": "execute_result"
    }
   ],
   "source": [
    "# to create identity matrix\n",
    "np.eye(3)"
   ]
  },
  {
   "cell_type": "code",
   "execution_count": null,
   "metadata": {},
   "outputs": [],
   "source": []
  },
  {
   "cell_type": "code",
   "execution_count": null,
   "metadata": {},
   "outputs": [],
   "source": []
  }
 ],
 "metadata": {
  "kernelspec": {
   "display_name": "Python 3",
   "language": "python",
   "name": "python3"
  },
  "language_info": {
   "codemirror_mode": {
    "name": "ipython",
    "version": 3
   },
   "file_extension": ".py",
   "mimetype": "text/x-python",
   "name": "python",
   "nbconvert_exporter": "python",
   "pygments_lexer": "ipython3",
   "version": "3.7.3"
  }
 },
 "nbformat": 4,
 "nbformat_minor": 2
}
