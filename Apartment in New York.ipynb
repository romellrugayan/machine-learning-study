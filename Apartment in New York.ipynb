{
 "cells": [
  {
   "cell_type": "markdown",
   "metadata": {},
   "source": [
    "## Machine Learning Project: Apartment Rent Price in NYC\n",
    "\n",
    "This study is based on Terrence Parr and Jeremy Howard's ebook: <a href=\"https://mlbook.explained.ai/\">The Mechanics of Machine Learning</a>\n",
    "\n",
    "To get the dataset file, please refer to this <a href=\"https://mlbook.explained.ai/first-taste.html\">A First Taste of Applied Machine Learning</a>, section 3.2.1 Loading and sniffing the training data\n",
    "    "
   ]
  },
  {
   "cell_type": "code",
   "execution_count": 1,
   "metadata": {},
   "outputs": [],
   "source": [
    "# import libraries\n",
    "import pandas as pd\n",
    "import numpy as np\n",
    "import matplotlib.pyplot as plt\n",
    "%matplotlib inline"
   ]
  },
  {
   "cell_type": "code",
   "execution_count": 4,
   "metadata": {},
   "outputs": [
    {
     "data": {
      "text/html": [
       "<div>\n",
       "<style scoped>\n",
       "    .dataframe tbody tr th:only-of-type {\n",
       "        vertical-align: middle;\n",
       "    }\n",
       "\n",
       "    .dataframe tbody tr th {\n",
       "        vertical-align: top;\n",
       "    }\n",
       "\n",
       "    .dataframe thead th {\n",
       "        text-align: right;\n",
       "    }\n",
       "</style>\n",
       "<table border=\"1\" class=\"dataframe\">\n",
       "  <thead>\n",
       "    <tr style=\"text-align: right;\">\n",
       "      <th></th>\n",
       "      <th>0</th>\n",
       "      <th>1</th>\n",
       "      <th>2</th>\n",
       "      <th>3</th>\n",
       "      <th>4</th>\n",
       "    </tr>\n",
       "  </thead>\n",
       "  <tbody>\n",
       "    <tr>\n",
       "      <th>bathrooms</th>\n",
       "      <td>1</td>\n",
       "      <td>1</td>\n",
       "      <td>1</td>\n",
       "      <td>1.5</td>\n",
       "      <td>1</td>\n",
       "    </tr>\n",
       "    <tr>\n",
       "      <th>bedrooms</th>\n",
       "      <td>1</td>\n",
       "      <td>2</td>\n",
       "      <td>2</td>\n",
       "      <td>3</td>\n",
       "      <td>0</td>\n",
       "    </tr>\n",
       "    <tr>\n",
       "      <th>building_id</th>\n",
       "      <td>8579a0b0d54db803821a35a4a615e97a</td>\n",
       "      <td>b8e75fc949a6cd8225b455648a951712</td>\n",
       "      <td>cd759a988b8f23924b5a2058d5ab2b49</td>\n",
       "      <td>53a5b119ba8f7b61d4e010512e0dfc85</td>\n",
       "      <td>bfb9405149bfff42a92980b594c28234</td>\n",
       "    </tr>\n",
       "    <tr>\n",
       "      <th>created</th>\n",
       "      <td>2016-06-16 05:55:27</td>\n",
       "      <td>2016-06-01 05:44:33</td>\n",
       "      <td>2016-06-14 15:19:59</td>\n",
       "      <td>2016-06-24 07:54:24</td>\n",
       "      <td>2016-06-28 03:50:23</td>\n",
       "    </tr>\n",
       "    <tr>\n",
       "      <th>description</th>\n",
       "      <td>Spacious 1 Bedroom 1 Bathroom in Williamsburg!...</td>\n",
       "      <td>BRAND NEW GUT RENOVATED TRUE 2 BEDROOMFind you...</td>\n",
       "      <td>**FLEX 2 BEDROOM WITH FULL PRESSURIZED WALL**L...</td>\n",
       "      <td>A Brand New 3 Bedroom 1.5 bath ApartmentEnjoy ...</td>\n",
       "      <td>Over-sized Studio w abundant closets. Availabl...</td>\n",
       "    </tr>\n",
       "    <tr>\n",
       "      <th>display_address</th>\n",
       "      <td>145 Borinquen Place</td>\n",
       "      <td>East 44th</td>\n",
       "      <td>East 56th Street</td>\n",
       "      <td>Metropolitan Avenue</td>\n",
       "      <td>East 34th Street</td>\n",
       "    </tr>\n",
       "    <tr>\n",
       "      <th>features</th>\n",
       "      <td>['Dining Room', 'Pre-War', 'Laundry in Buildin...</td>\n",
       "      <td>['Doorman', 'Elevator', 'Laundry in Building',...</td>\n",
       "      <td>['Doorman', 'Elevator', 'Laundry in Building',...</td>\n",
       "      <td>[]</td>\n",
       "      <td>['Doorman', 'Elevator', 'Fitness Center', 'Lau...</td>\n",
       "    </tr>\n",
       "    <tr>\n",
       "      <th>latitude</th>\n",
       "      <td>40.7108</td>\n",
       "      <td>40.7513</td>\n",
       "      <td>40.7575</td>\n",
       "      <td>40.7145</td>\n",
       "      <td>40.7439</td>\n",
       "    </tr>\n",
       "    <tr>\n",
       "      <th>listing_id</th>\n",
       "      <td>7170325</td>\n",
       "      <td>7092344</td>\n",
       "      <td>7158677</td>\n",
       "      <td>7211212</td>\n",
       "      <td>7225292</td>\n",
       "    </tr>\n",
       "    <tr>\n",
       "      <th>longitude</th>\n",
       "      <td>-73.9539</td>\n",
       "      <td>-73.9722</td>\n",
       "      <td>-73.9625</td>\n",
       "      <td>-73.9425</td>\n",
       "      <td>-73.9743</td>\n",
       "    </tr>\n",
       "    <tr>\n",
       "      <th>manager_id</th>\n",
       "      <td>a10db4590843d78c784171a107bdacb4</td>\n",
       "      <td>955db33477af4f40004820b4aed804a0</td>\n",
       "      <td>c8b10a317b766204f08e613cef4ce7a0</td>\n",
       "      <td>5ba989232d0489da1b5f2c45f6688adc</td>\n",
       "      <td>2c3b41f588fbb5234d8a1e885a436cfa</td>\n",
       "    </tr>\n",
       "    <tr>\n",
       "      <th>photos</th>\n",
       "      <td>['https://photos.renthop.com/2/7170325_3bb5ac8...</td>\n",
       "      <td>['https://photos.renthop.com/2/7092344_7663c19...</td>\n",
       "      <td>['https://photos.renthop.com/2/7158677_c897a13...</td>\n",
       "      <td>['https://photos.renthop.com/2/7211212_1ed4542...</td>\n",
       "      <td>['https://photos.renthop.com/2/7225292_901f198...</td>\n",
       "    </tr>\n",
       "    <tr>\n",
       "      <th>price</th>\n",
       "      <td>2400</td>\n",
       "      <td>3800</td>\n",
       "      <td>3495</td>\n",
       "      <td>3000</td>\n",
       "      <td>2795</td>\n",
       "    </tr>\n",
       "    <tr>\n",
       "      <th>street_address</th>\n",
       "      <td>145 Borinquen Place</td>\n",
       "      <td>230 East 44th</td>\n",
       "      <td>405 East 56th Street</td>\n",
       "      <td>792 Metropolitan Avenue</td>\n",
       "      <td>340 East 34th Street</td>\n",
       "    </tr>\n",
       "    <tr>\n",
       "      <th>interest_level</th>\n",
       "      <td>medium</td>\n",
       "      <td>low</td>\n",
       "      <td>medium</td>\n",
       "      <td>medium</td>\n",
       "      <td>low</td>\n",
       "    </tr>\n",
       "  </tbody>\n",
       "</table>\n",
       "</div>"
      ],
      "text/plain": [
       "                                                                 0  \\\n",
       "bathrooms                                                        1   \n",
       "bedrooms                                                         1   \n",
       "building_id                       8579a0b0d54db803821a35a4a615e97a   \n",
       "created                                        2016-06-16 05:55:27   \n",
       "description      Spacious 1 Bedroom 1 Bathroom in Williamsburg!...   \n",
       "display_address                                145 Borinquen Place   \n",
       "features         ['Dining Room', 'Pre-War', 'Laundry in Buildin...   \n",
       "latitude                                                   40.7108   \n",
       "listing_id                                                 7170325   \n",
       "longitude                                                 -73.9539   \n",
       "manager_id                        a10db4590843d78c784171a107bdacb4   \n",
       "photos           ['https://photos.renthop.com/2/7170325_3bb5ac8...   \n",
       "price                                                         2400   \n",
       "street_address                                 145 Borinquen Place   \n",
       "interest_level                                              medium   \n",
       "\n",
       "                                                                 1  \\\n",
       "bathrooms                                                        1   \n",
       "bedrooms                                                         2   \n",
       "building_id                       b8e75fc949a6cd8225b455648a951712   \n",
       "created                                        2016-06-01 05:44:33   \n",
       "description      BRAND NEW GUT RENOVATED TRUE 2 BEDROOMFind you...   \n",
       "display_address                                          East 44th   \n",
       "features         ['Doorman', 'Elevator', 'Laundry in Building',...   \n",
       "latitude                                                   40.7513   \n",
       "listing_id                                                 7092344   \n",
       "longitude                                                 -73.9722   \n",
       "manager_id                        955db33477af4f40004820b4aed804a0   \n",
       "photos           ['https://photos.renthop.com/2/7092344_7663c19...   \n",
       "price                                                         3800   \n",
       "street_address                                       230 East 44th   \n",
       "interest_level                                                 low   \n",
       "\n",
       "                                                                 2  \\\n",
       "bathrooms                                                        1   \n",
       "bedrooms                                                         2   \n",
       "building_id                       cd759a988b8f23924b5a2058d5ab2b49   \n",
       "created                                        2016-06-14 15:19:59   \n",
       "description      **FLEX 2 BEDROOM WITH FULL PRESSURIZED WALL**L...   \n",
       "display_address                                   East 56th Street   \n",
       "features         ['Doorman', 'Elevator', 'Laundry in Building',...   \n",
       "latitude                                                   40.7575   \n",
       "listing_id                                                 7158677   \n",
       "longitude                                                 -73.9625   \n",
       "manager_id                        c8b10a317b766204f08e613cef4ce7a0   \n",
       "photos           ['https://photos.renthop.com/2/7158677_c897a13...   \n",
       "price                                                         3495   \n",
       "street_address                                405 East 56th Street   \n",
       "interest_level                                              medium   \n",
       "\n",
       "                                                                 3  \\\n",
       "bathrooms                                                      1.5   \n",
       "bedrooms                                                         3   \n",
       "building_id                       53a5b119ba8f7b61d4e010512e0dfc85   \n",
       "created                                        2016-06-24 07:54:24   \n",
       "description      A Brand New 3 Bedroom 1.5 bath ApartmentEnjoy ...   \n",
       "display_address                                Metropolitan Avenue   \n",
       "features                                                        []   \n",
       "latitude                                                   40.7145   \n",
       "listing_id                                                 7211212   \n",
       "longitude                                                 -73.9425   \n",
       "manager_id                        5ba989232d0489da1b5f2c45f6688adc   \n",
       "photos           ['https://photos.renthop.com/2/7211212_1ed4542...   \n",
       "price                                                         3000   \n",
       "street_address                             792 Metropolitan Avenue   \n",
       "interest_level                                              medium   \n",
       "\n",
       "                                                                 4  \n",
       "bathrooms                                                        1  \n",
       "bedrooms                                                         0  \n",
       "building_id                       bfb9405149bfff42a92980b594c28234  \n",
       "created                                        2016-06-28 03:50:23  \n",
       "description      Over-sized Studio w abundant closets. Availabl...  \n",
       "display_address                                   East 34th Street  \n",
       "features         ['Doorman', 'Elevator', 'Fitness Center', 'Lau...  \n",
       "latitude                                                   40.7439  \n",
       "listing_id                                                 7225292  \n",
       "longitude                                                 -73.9743  \n",
       "manager_id                        2c3b41f588fbb5234d8a1e885a436cfa  \n",
       "photos           ['https://photos.renthop.com/2/7225292_901f198...  \n",
       "price                                                         2795  \n",
       "street_address                                340 East 34th Street  \n",
       "interest_level                                                 low  "
      ]
     },
     "execution_count": 4,
     "metadata": {},
     "output_type": "execute_result"
    }
   ],
   "source": [
    "# importing dataset\n",
    "df = pd.read_csv('data/rent.csv')\n",
    "df.head().T"
   ]
  },
  {
   "cell_type": "code",
   "execution_count": 5,
   "metadata": {},
   "outputs": [
    {
     "name": "stdout",
     "output_type": "stream",
     "text": [
      "<class 'pandas.core.frame.DataFrame'>\n",
      "RangeIndex: 49352 entries, 0 to 49351\n",
      "Data columns (total 15 columns):\n",
      "bathrooms          49352 non-null float64\n",
      "bedrooms           49352 non-null int64\n",
      "building_id        49352 non-null object\n",
      "created            49352 non-null object\n",
      "description        47906 non-null object\n",
      "display_address    49217 non-null object\n",
      "features           49352 non-null object\n",
      "latitude           49352 non-null float64\n",
      "listing_id         49352 non-null int64\n",
      "longitude          49352 non-null float64\n",
      "manager_id         49352 non-null object\n",
      "photos             49352 non-null object\n",
      "price              49352 non-null int64\n",
      "street_address     49342 non-null object\n",
      "interest_level     49352 non-null object\n",
      "dtypes: float64(3), int64(3), object(9)\n",
      "memory usage: 5.6+ MB\n"
     ]
    }
   ],
   "source": [
    "# to inspect the data, column names, no.of entries, type and to check if any null values\n",
    "df.info()"
   ]
  },
  {
   "cell_type": "code",
   "execution_count": 6,
   "metadata": {},
   "outputs": [
    {
     "data": {
      "text/html": [
       "<div>\n",
       "<style scoped>\n",
       "    .dataframe tbody tr th:only-of-type {\n",
       "        vertical-align: middle;\n",
       "    }\n",
       "\n",
       "    .dataframe tbody tr th {\n",
       "        vertical-align: top;\n",
       "    }\n",
       "\n",
       "    .dataframe thead th {\n",
       "        text-align: right;\n",
       "    }\n",
       "</style>\n",
       "<table border=\"1\" class=\"dataframe\">\n",
       "  <thead>\n",
       "    <tr style=\"text-align: right;\">\n",
       "      <th></th>\n",
       "      <th>bathrooms</th>\n",
       "      <th>bedrooms</th>\n",
       "      <th>longitude</th>\n",
       "      <th>latitude</th>\n",
       "      <th>price</th>\n",
       "    </tr>\n",
       "  </thead>\n",
       "  <tbody>\n",
       "    <tr>\n",
       "      <th>0</th>\n",
       "      <td>1.0</td>\n",
       "      <td>1</td>\n",
       "      <td>-73.9539</td>\n",
       "      <td>40.7108</td>\n",
       "      <td>2400</td>\n",
       "    </tr>\n",
       "    <tr>\n",
       "      <th>1</th>\n",
       "      <td>1.0</td>\n",
       "      <td>2</td>\n",
       "      <td>-73.9722</td>\n",
       "      <td>40.7513</td>\n",
       "      <td>3800</td>\n",
       "    </tr>\n",
       "  </tbody>\n",
       "</table>\n",
       "</div>"
      ],
      "text/plain": [
       "   bathrooms  bedrooms  longitude  latitude  price\n",
       "0        1.0         1   -73.9539   40.7108   2400\n",
       "1        1.0         2   -73.9722   40.7513   3800"
      ]
     },
     "execution_count": 6,
     "metadata": {},
     "output_type": "execute_result"
    }
   ],
   "source": [
    "# get subset of the dataframe\n",
    "df_num = df[['bathrooms', 'bedrooms', 'longitude', 'latitude', 'price']]\n",
    "df_num.head(2)"
   ]
  },
  {
   "cell_type": "code",
   "execution_count": 7,
   "metadata": {},
   "outputs": [
    {
     "name": "stdout",
     "output_type": "stream",
     "text": [
      "bathrooms    False\n",
      "bedrooms     False\n",
      "longitude    False\n",
      "latitude     False\n",
      "price        False\n",
      "dtype: bool\n"
     ]
    }
   ],
   "source": [
    "# check if there are missing values\n",
    "print(df_num.isnull().any())"
   ]
  },
  {
   "cell_type": "markdown",
   "metadata": {},
   "source": [
    "### Training and Evaluating Initial Model"
   ]
  },
  {
   "cell_type": "code",
   "execution_count": 9,
   "metadata": {},
   "outputs": [],
   "source": [
    "# separate fetures and target column\n",
    "X_train = df_num.drop('price', axis=1)\n",
    "y_train = df_num['price']"
   ]
  },
  {
   "cell_type": "code",
   "execution_count": 10,
   "metadata": {},
   "outputs": [
    {
     "data": {
      "text/plain": [
       "RandomForestRegressor(bootstrap=True, criterion='mse', max_depth=None,\n",
       "                      max_features='auto', max_leaf_nodes=None,\n",
       "                      min_impurity_decrease=0.0, min_impurity_split=None,\n",
       "                      min_samples_leaf=1, min_samples_split=2,\n",
       "                      min_weight_fraction_leaf=0.0, n_estimators=100, n_jobs=-1,\n",
       "                      oob_score=False, random_state=None, verbose=0,\n",
       "                      warm_start=False)"
      ]
     },
     "execution_count": 10,
     "metadata": {},
     "output_type": "execute_result"
    }
   ],
   "source": [
    "# train the model with appropriate parameters\n",
    "from sklearn.ensemble import RandomForestRegressor\n",
    "rf = RandomForestRegressor(n_estimators=100,n_jobs=-1)\n",
    "rf.fit(X_train, y_train)"
   ]
  },
  {
   "cell_type": "code",
   "execution_count": 11,
   "metadata": {},
   "outputs": [
    {
     "name": "stdout",
     "output_type": "stream",
     "text": [
      "0.8427\n"
     ]
    }
   ],
   "source": [
    "# evaluate the model using R2-score\n",
    "r2 = rf.score(X_train, y_train)\n",
    "print( f\"{r2:.4f}\" )"
   ]
  },
  {
   "cell_type": "code",
   "execution_count": 12,
   "metadata": {},
   "outputs": [
    {
     "name": "stdout",
     "output_type": "stream",
     "text": [
      "OOB score 0.0246\n"
     ]
    }
   ],
   "source": [
    "# check the model generality using out-of-the-bag score\n",
    "rf = RandomForestRegressor(n_estimators=100, n_jobs=-1, oob_score=True)   # get error estimate\n",
    "rf.fit(X_train, y_train)\n",
    "noisy_oob_r2 = rf.oob_score_\n",
    "print(f\"OOB score {noisy_oob_r2:.4f}\")"
   ]
  },
  {
   "cell_type": "code",
   "execution_count": 13,
   "metadata": {},
   "outputs": [
    {
     "name": "stdout",
     "output_type": "stream",
     "text": [
      "Validation MAE trials: $432 $835 $455 $868 $729 $925 $442\n",
      "Average validation MAE $669\n"
     ]
    }
   ],
   "source": [
    "# verify the the mean absolute error (MAE) will produce same result\n",
    "# this time the data will be split into training and test data\n",
    "from sklearn.model_selection import train_test_split\n",
    "from sklearn.metrics import mean_absolute_error\n",
    "\n",
    "X, y = df_num.drop('price', axis=1), df_num['price']\n",
    "\n",
    "errors = []\n",
    "print(f\"Validation MAE trials:\", end='')\n",
    "for i in range(7):\n",
    "    X_train, X_test, y_train, y_test = train_test_split(X, y, test_size=0.20)\n",
    "    rf = RandomForestRegressor(n_estimators=100, n_jobs=-1)\n",
    "    rf.fit(X_train, y_train)\n",
    "    y_predicted = rf.predict(X_test)\n",
    "    e = mean_absolute_error(y_test, y_predicted)\n",
    "    print(f\" ${e:.0f}\", end='')\n",
    "    errors.append(e)\n",
    "print()\n",
    "noisy_avg_mae = np.mean(errors)\n",
    "print(f\"Average validation MAE ${noisy_avg_mae:.0f}\")"
   ]
  },
  {
   "cell_type": "markdown",
   "metadata": {},
   "source": [
    "### Exploring and Denoising the Dataset"
   ]
  },
  {
   "cell_type": "code",
   "execution_count": 14,
   "metadata": {},
   "outputs": [
    {
     "data": {
      "text/html": [
       "<div>\n",
       "<style scoped>\n",
       "    .dataframe tbody tr th:only-of-type {\n",
       "        vertical-align: middle;\n",
       "    }\n",
       "\n",
       "    .dataframe tbody tr th {\n",
       "        vertical-align: top;\n",
       "    }\n",
       "\n",
       "    .dataframe thead th {\n",
       "        text-align: right;\n",
       "    }\n",
       "</style>\n",
       "<table border=\"1\" class=\"dataframe\">\n",
       "  <thead>\n",
       "    <tr style=\"text-align: right;\">\n",
       "      <th></th>\n",
       "      <th>bathrooms</th>\n",
       "      <th>bedrooms</th>\n",
       "      <th>longitude</th>\n",
       "      <th>latitude</th>\n",
       "      <th>price</th>\n",
       "    </tr>\n",
       "  </thead>\n",
       "  <tbody>\n",
       "    <tr>\n",
       "      <th>count</th>\n",
       "      <td>49352.00000</td>\n",
       "      <td>49352.000000</td>\n",
       "      <td>49352.000000</td>\n",
       "      <td>49352.000000</td>\n",
       "      <td>4.935200e+04</td>\n",
       "    </tr>\n",
       "    <tr>\n",
       "      <th>mean</th>\n",
       "      <td>1.21218</td>\n",
       "      <td>1.541640</td>\n",
       "      <td>-73.955716</td>\n",
       "      <td>40.741545</td>\n",
       "      <td>3.830174e+03</td>\n",
       "    </tr>\n",
       "    <tr>\n",
       "      <th>std</th>\n",
       "      <td>0.50142</td>\n",
       "      <td>1.115018</td>\n",
       "      <td>1.177912</td>\n",
       "      <td>0.638535</td>\n",
       "      <td>2.206687e+04</td>\n",
       "    </tr>\n",
       "    <tr>\n",
       "      <th>min</th>\n",
       "      <td>0.00000</td>\n",
       "      <td>0.000000</td>\n",
       "      <td>-118.271000</td>\n",
       "      <td>0.000000</td>\n",
       "      <td>4.300000e+01</td>\n",
       "    </tr>\n",
       "    <tr>\n",
       "      <th>25%</th>\n",
       "      <td>1.00000</td>\n",
       "      <td>1.000000</td>\n",
       "      <td>-73.991700</td>\n",
       "      <td>40.728300</td>\n",
       "      <td>2.500000e+03</td>\n",
       "    </tr>\n",
       "    <tr>\n",
       "      <th>50%</th>\n",
       "      <td>1.00000</td>\n",
       "      <td>1.000000</td>\n",
       "      <td>-73.977900</td>\n",
       "      <td>40.751800</td>\n",
       "      <td>3.150000e+03</td>\n",
       "    </tr>\n",
       "    <tr>\n",
       "      <th>75%</th>\n",
       "      <td>1.00000</td>\n",
       "      <td>2.000000</td>\n",
       "      <td>-73.954800</td>\n",
       "      <td>40.774300</td>\n",
       "      <td>4.100000e+03</td>\n",
       "    </tr>\n",
       "    <tr>\n",
       "      <th>max</th>\n",
       "      <td>10.00000</td>\n",
       "      <td>8.000000</td>\n",
       "      <td>0.000000</td>\n",
       "      <td>44.883500</td>\n",
       "      <td>4.490000e+06</td>\n",
       "    </tr>\n",
       "  </tbody>\n",
       "</table>\n",
       "</div>"
      ],
      "text/plain": [
       "         bathrooms      bedrooms     longitude      latitude         price\n",
       "count  49352.00000  49352.000000  49352.000000  49352.000000  4.935200e+04\n",
       "mean       1.21218      1.541640    -73.955716     40.741545  3.830174e+03\n",
       "std        0.50142      1.115018      1.177912      0.638535  2.206687e+04\n",
       "min        0.00000      0.000000   -118.271000      0.000000  4.300000e+01\n",
       "25%        1.00000      1.000000    -73.991700     40.728300  2.500000e+03\n",
       "50%        1.00000      1.000000    -73.977900     40.751800  3.150000e+03\n",
       "75%        1.00000      2.000000    -73.954800     40.774300  4.100000e+03\n",
       "max       10.00000      8.000000      0.000000     44.883500  4.490000e+06"
      ]
     },
     "execution_count": 14,
     "metadata": {},
     "output_type": "execute_result"
    }
   ],
   "source": [
    "# inspect the distribution\n",
    "df_num.describe()"
   ]
  },
  {
   "cell_type": "code",
   "execution_count": 15,
   "metadata": {},
   "outputs": [
    {
     "name": "stdout",
     "output_type": "stream",
     "text": [
      "12947    4490000\n",
      "4793     1150000\n",
      "22968    1070000\n",
      "22058    1070000\n",
      "49289     135000\n",
      "1830      111111\n",
      "36476     100000\n",
      "21525      90000\n",
      "46382      85000\n",
      "38564      80000\n",
      "Name: price, dtype: int64\n"
     ]
    }
   ],
   "source": [
    "# examining the data distributions\n",
    "print(df_num.price.sort_values(ascending=False).head(10))"
   ]
  },
  {
   "cell_type": "code",
   "execution_count": 16,
   "metadata": {},
   "outputs": [
    {
     "name": "stdout",
     "output_type": "stream",
     "text": [
      "1.0     39422\n",
      "2.0      7660\n",
      "3.0       745\n",
      "1.5       645\n",
      "0.0       313\n",
      "2.5       277\n",
      "4.0       159\n",
      "3.5        70\n",
      "4.5        29\n",
      "5.0        20\n",
      "5.5         5\n",
      "6.0         4\n",
      "10.0        1\n",
      "6.5         1\n",
      "7.0         1\n",
      "Name: bathrooms, dtype: int64\n"
     ]
    }
   ],
   "source": [
    "# get the counts of the unique value\n",
    "print(df_num.bathrooms.value_counts())"
   ]
  },
  {
   "cell_type": "code",
   "execution_count": 17,
   "metadata": {},
   "outputs": [
    {
     "name": "stdout",
     "output_type": "stream",
     "text": [
      "1    15752\n",
      "2    14623\n",
      "0     9475\n",
      "3     7276\n",
      "4     1929\n",
      "5      247\n",
      "6       46\n",
      "8        2\n",
      "7        2\n",
      "Name: bedrooms, dtype: int64\n"
     ]
    }
   ],
   "source": [
    "print(df_num.bedrooms.value_counts())"
   ]
  },
  {
   "cell_type": "code",
   "execution_count": 19,
   "metadata": {},
   "outputs": [
    {
     "data": {
      "image/png": "[encoded data removed]",
      "text/plain": [
       "<Figure size 432x288 with 1 Axes>"
      ]
     },
     "metadata": {
      "needs_background": "light"
     },
     "output_type": "display_data"
    }
   ],
   "source": [
    "# inspect the data visually using histogram\n",
    "bookcolors = { # our usual book color palette \n",
    "         'crimson': '#a50026', 'red': '#d73027','redorange': '#f46d43', 'orange': '#fdae61','yellow': '#fee090', \n",
    "         'sky': '#e0f3f8','babyblue': '#abd9e9', 'lightblue': '#74add1', 'blue': '#4575b4', 'purple': '#313695'}\n",
    "fig,ax = plt.subplots()\n",
    "ax.set_xlabel('Num Bedrooms')\n",
    "ax.set_ylabel('Num Apts')\n",
    "ax.hist(df_num.bedrooms, color=bookcolors['blue'])\n",
    "plt.show()"
   ]
  },
  {
   "cell_type": "code",
   "execution_count": 20,
   "metadata": {},
   "outputs": [
    {
     "name": "stdout",
     "output_type": "stream",
     "text": [
      "12\n"
     ]
    }
   ],
   "source": [
    "# inspect latitude and longitude having 0,0 location - get the numbers\n",
    "print(len(df[(df.longitude==0.0) & (df.latitude==0.0)]))"
   ]
  },
  {
   "cell_type": "code",
   "execution_count": 21,
   "metadata": {},
   "outputs": [
    {
     "data": {
      "text/html": [
       "<div>\n",
       "<style scoped>\n",
       "    .dataframe tbody tr th:only-of-type {\n",
       "        vertical-align: middle;\n",
       "    }\n",
       "\n",
       "    .dataframe tbody tr th {\n",
       "        vertical-align: top;\n",
       "    }\n",
       "\n",
       "    .dataframe thead th {\n",
       "        text-align: right;\n",
       "    }\n",
       "</style>\n",
       "<table border=\"1\" class=\"dataframe\">\n",
       "  <thead>\n",
       "    <tr style=\"text-align: right;\">\n",
       "      <th></th>\n",
       "      <th>bedrooms</th>\n",
       "      <th>bathrooms</th>\n",
       "      <th>street_address</th>\n",
       "      <th>price</th>\n",
       "    </tr>\n",
       "  </thead>\n",
       "  <tbody>\n",
       "    <tr>\n",
       "      <th>31301</th>\n",
       "      <td>1</td>\n",
       "      <td>1.0</td>\n",
       "      <td>west 54 st &amp; 8 ave</td>\n",
       "      <td>2300</td>\n",
       "    </tr>\n",
       "    <tr>\n",
       "      <th>14887</th>\n",
       "      <td>1</td>\n",
       "      <td>1.0</td>\n",
       "      <td>300 West 55th Street</td>\n",
       "      <td>2400</td>\n",
       "    </tr>\n",
       "    <tr>\n",
       "      <th>9153</th>\n",
       "      <td>1</td>\n",
       "      <td>1.0</td>\n",
       "      <td>300 West 55th Street</td>\n",
       "      <td>3350</td>\n",
       "    </tr>\n",
       "    <tr>\n",
       "      <th>38815</th>\n",
       "      <td>1</td>\n",
       "      <td>1.0</td>\n",
       "      <td>300 West 55th Street</td>\n",
       "      <td>3400</td>\n",
       "    </tr>\n",
       "    <tr>\n",
       "      <th>22058</th>\n",
       "      <td>1</td>\n",
       "      <td>1.0</td>\n",
       "      <td>333 West 57th Street</td>\n",
       "      <td>1070000</td>\n",
       "    </tr>\n",
       "    <tr>\n",
       "      <th>22968</th>\n",
       "      <td>1</td>\n",
       "      <td>1.0</td>\n",
       "      <td>333 West 57th Street</td>\n",
       "      <td>1070000</td>\n",
       "    </tr>\n",
       "  </tbody>\n",
       "</table>\n",
       "</div>"
      ],
      "text/plain": [
       "       bedrooms  bathrooms        street_address    price\n",
       "31301         1        1.0   west 54 st & 8 ave      2300\n",
       "14887         1        1.0  300 West 55th Street     2400\n",
       "9153          1        1.0  300 West 55th Street     3350\n",
       "38815         1        1.0  300 West 55th Street     3400\n",
       "22058         1        1.0  333 West 57th Street  1070000\n",
       "22968         1        1.0  333 West 57th Street  1070000"
      ]
     },
     "execution_count": 21,
     "metadata": {},
     "output_type": "execute_result"
    }
   ],
   "source": [
    "# detecting the outliers\n",
    "df_local = df[(df.latitude>40.764) & (df.latitude<40.7678) &\n",
    "              (df.longitude>=-73.9844) & (df.longitude<=-73.9842) & (df.bathrooms==1) & (df.bedrooms==1)]\n",
    "df_local[['bedrooms','bathrooms','street_address','price']].sort_values('price')"
   ]
  },
  {
   "cell_type": "markdown",
   "metadata": {},
   "source": [
    "### Excising the Anomalies"
   ]
  },
  {
   "cell_type": "code",
   "execution_count": 22,
   "metadata": {},
   "outputs": [],
   "source": [
    "# filter all records (training/testing)\n",
    "df_clean = df_num[(df_num.price>1_000) & (df_num.price<10_000)]"
   ]
  },
  {
   "cell_type": "code",
   "execution_count": 23,
   "metadata": {},
   "outputs": [
    {
     "data": {
      "image/png": "[encoded data removed]",
      "text/plain": [
       "<Figure size 432x288 with 1 Axes>"
      ]
     },
     "metadata": {
      "needs_background": "light"
     },
     "output_type": "display_data"
    }
   ],
   "source": [
    "# To visualize the distribution of cleaned-up prices, let's use a histogram again\n",
    "fig,ax = plt.subplots()\n",
    "ax.set_xlabel('Clipped Price')\n",
    "ax.set_ylabel('Num Apts at that price')\n",
    "ax.hist(df_clean.price, bins=45, color=bookcolors['blue'])\n",
    "plt.show()"
   ]
  },
  {
   "cell_type": "code",
   "execution_count": 24,
   "metadata": {},
   "outputs": [
    {
     "data": {
      "image/png": "[encoded data removed]",
      "text/plain": [
       "<Figure size 432x288 with 1 Axes>"
      ]
     },
     "metadata": {
      "needs_background": "light"
     },
     "output_type": "display_data"
    }
   ],
   "source": [
    "# clipping out the top and bottom 1% to exclude the outliers\n",
    "upper, lower = np.percentile(df.price, [1,99]) # find middle 98% of prices\n",
    "clipped = np.clip(df.price, upper, lower)\n",
    "fig,ax = plt.subplots()\n",
    "ax.set_xlabel('Prices in middle 98% range')\n",
    "ax.set_ylabel('Num Apts at that price')\n",
    "ax.hist(clipped, bins=45, color=bookcolors['blue'])\n",
    "plt.show()"
   ]
  },
  {
   "cell_type": "code",
   "execution_count": 25,
   "metadata": {},
   "outputs": [
    {
     "name": "stdout",
     "output_type": "stream",
     "text": [
      "11\n"
     ]
    }
   ],
   "source": [
    "# get no. of records out of New York City proper\n",
    "df_missing = df_clean[(df_clean.longitude==0) | (df_clean.latitude==0)]\n",
    "print(len(df_missing))"
   ]
  },
  {
   "cell_type": "code",
   "execution_count": 26,
   "metadata": {},
   "outputs": [],
   "source": [
    "# delete the records without affecting the training set\n",
    "df_clean = df_clean[(df_clean.longitude!=0) | (df_clean.latitude!=0)]"
   ]
  },
  {
   "cell_type": "code",
   "execution_count": 30,
   "metadata": {},
   "outputs": [],
   "source": [
    "# delete the records out of the bounding box of NYC\n",
    "df_clean = df_clean[(df_clean['latitude']>40.55) &\n",
    "                    (df_clean['latitude']<40.94) &\n",
    "                    (df_clean['longitude']>-74.1) &\n",
    "                    (df_clean['longitude']<-73.67)]"
   ]
  },
  {
   "cell_type": "markdown",
   "metadata": {},
   "source": [
    "###  Comparing models trained on denoised data"
   ]
  },
  {
   "cell_type": "code",
   "execution_count": 31,
   "metadata": {},
   "outputs": [
    {
     "name": "stdout",
     "output_type": "stream",
     "text": [
      "Validation OOB score 0.8678\n"
     ]
    }
   ],
   "source": [
    "# using the cleaned data\n",
    "X, y = df_clean.drop('price', axis=1), df_clean['price']\n",
    "rf = RandomForestRegressor(n_estimators=100,\n",
    "                           n_jobs=-1,        # parallelize\n",
    "                           oob_score=True)   # get error estimate\n",
    "rf.fit(X, y)\n",
    "clean_oob_r2 = rf.oob_score_\n",
    "print(f\"Validation OOB score {clean_oob_r2:.4f}\")"
   ]
  },
  {
   "cell_type": "code",
   "execution_count": 32,
   "metadata": {},
   "outputs": [
    {
     "name": "stdout",
     "output_type": "stream",
     "text": [
      "Validation MAE trials: $298 $299 $302 $288 $295 $291 $294\n",
      "Average validation MAE $295\n"
     ]
    }
   ],
   "source": [
    "# verify the result of MAE\n",
    "from sklearn.model_selection import train_test_split\n",
    "from sklearn.metrics import mean_absolute_error\n",
    "\n",
    "errors = []\n",
    "print(f\"Validation MAE trials:\", end='')\n",
    "for i in range(7):\n",
    "    X_train, X_test, y_train, y_test = train_test_split(X, y, test_size=0.20)\n",
    "    rf = RandomForestRegressor(n_estimators=100, n_jobs=-1)\n",
    "    rf.fit(X_train, y_train)\n",
    "    y_predicted = rf.predict(X_test)\n",
    "    e = mean_absolute_error(y_test, y_predicted)\n",
    "    print(f\" ${e:.0f}\", end='')\n",
    "    errors.append(e)\n",
    "print()\n",
    "noisy_avg_mae = np.mean(errors)\n",
    "print(f\"Average validation MAE ${noisy_avg_mae:.0f}\")"
   ]
  },
  {
   "cell_type": "code",
   "execution_count": 33,
   "metadata": {},
   "outputs": [
    {
     "name": "stdout",
     "output_type": "stream",
     "text": [
      "LM Training score 0.5747\n",
      "LM Validation score 0.5815\n"
     ]
    }
   ],
   "source": [
    "# try different model to check if we can improve model's accuracy: Use Lasso Regression\n",
    "from sklearn.linear_model import Lasso\n",
    "\n",
    "X_train, X_test, y_train, y_test = train_test_split(X, y, test_size=0.20)\n",
    "lm = Lasso(alpha=0.5) # create linear model\n",
    "lm.fit(X_train, y_train)\n",
    "print(f\"LM Training score {lm.score(X_train, y_train):.4f}\")\n",
    "print(f\"LM Validation score {lm.score(X_test, y_test):.4f}\")"
   ]
  },
  {
   "cell_type": "code",
   "execution_count": 34,
   "metadata": {},
   "outputs": [
    {
     "name": "stdout",
     "output_type": "stream",
     "text": [
      "GB Training score 0.8389\n",
      "GB Validation score 0.8195\n"
     ]
    }
   ],
   "source": [
    "# try Gradient Booting\n",
    "from sklearn.ensemble import GradientBoostingRegressor\n",
    "\n",
    "gbr = GradientBoostingRegressor(n_estimators = 2000)\n",
    "gbr.fit(X_train, y_train)\n",
    "print(f\"GB Training score {gbr.score(X_train, y_train):.4f}\")\n",
    "print(f\"GB Validation score {gbr.score(X_test, y_test):.4f}\")"
   ]
  },
  {
   "cell_type": "markdown",
   "metadata": {},
   "source": [
    "### Transforming the Distribution"
   ]
  },
  {
   "cell_type": "code",
   "execution_count": 36,
   "metadata": {},
   "outputs": [
    {
     "name": "stdout",
     "output_type": "stream",
     "text": [
      "OOB R^2 score for log(price) 0.8770\n"
     ]
    }
   ],
   "source": [
    "# to transform the skewed distribution to normal distribution by taking the log of the target variables\n",
    "# this affects the overall accuracy of a model trained on the original, noisy data set\n",
    "X, y = df_num.drop('price', axis=1), df_num['price']\n",
    "y_log = np.log(y) # apply log to each price\n",
    "\n",
    "rf = RandomForestRegressor(n_estimators=100, n_jobs=-1, oob_score=True)\n",
    "rf.fit(X, y_log)\n",
    "log_oob_r2 = rf.oob_score_\n",
    "print(f\"OOB R^2 score for log(price) {log_oob_r2:.4f}\")"
   ]
  },
  {
   "cell_type": "code",
   "execution_count": 39,
   "metadata": {},
   "outputs": [
    {
     "name": "stdout",
     "output_type": "stream",
     "text": [
      "Maximum value: 11662.413402800783\n",
      "Minimum vlaue: 1011.1087571401379\n",
      "Mean value: 3438.782536800864\n"
     ]
    }
   ],
   "source": [
    "# To make actual predictions for some X_test, take the exp of model predictions to get prices in dollars \n",
    "y_predicted_log = rf.predict(X_test)\n",
    "y_predicted = np.exp(y_predicted_log)\n",
    "print('Maximum value:', y_predicted.max())\n",
    "print('Minimum vlaue:', y_predicted.min())\n",
    "print('Mean value:', y_predicted.mean())"
   ]
  },
  {
   "cell_type": "code",
   "execution_count": null,
   "metadata": {},
   "outputs": [],
   "source": []
  }
 ],
 "metadata": {
  "kernelspec": {
   "display_name": "Python 3",
   "language": "python",
   "name": "python3"
  },
  "language_info": {
   "codemirror_mode": {
    "name": "ipython",
    "version": 3
   },
   "file_extension": ".py",
   "mimetype": "text/x-python",
   "name": "python",
   "nbconvert_exporter": "python",
   "pygments_lexer": "ipython3",
   "version": "3.7.3"
  }
 },
 "nbformat": 4,
 "nbformat_minor": 2
}
