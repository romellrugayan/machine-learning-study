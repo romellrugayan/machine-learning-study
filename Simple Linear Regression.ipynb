{
 "cells": [
  {
   "cell_type": "markdown",
   "metadata": {},
   "source": [
    "## Simple Linear Regression\n",
    "<p>Based on Andrew Ng's lecture: Stanford Machine Learning</p>\n",
    "<p>A dataset for this exercise is used to predict the profit for a given population of the city</p>"
   ]
  },
  {
   "cell_type": "code",
   "execution_count": 1,
   "metadata": {},
   "outputs": [],
   "source": [
    "import numpy as np\n",
    "import pandas as pd\n",
    "import matplotlib.pyplot as plt\n",
    "%matplotlib inline"
   ]
  },
  {
   "cell_type": "code",
   "execution_count": 3,
   "metadata": {},
   "outputs": [
    {
     "data": {
      "text/html": [
       "<div>\n",
       "<style scoped>\n",
       "    .dataframe tbody tr th:only-of-type {\n",
       "        vertical-align: middle;\n",
       "    }\n",
       "\n",
       "    .dataframe tbody tr th {\n",
       "        vertical-align: top;\n",
       "    }\n",
       "\n",
       "    .dataframe thead th {\n",
       "        text-align: right;\n",
       "    }\n",
       "</style>\n",
       "<table border=\"1\" class=\"dataframe\">\n",
       "  <thead>\n",
       "    <tr style=\"text-align: right;\">\n",
       "      <th></th>\n",
       "      <th>population</th>\n",
       "      <th>profit</th>\n",
       "    </tr>\n",
       "  </thead>\n",
       "  <tbody>\n",
       "    <tr>\n",
       "      <th>0</th>\n",
       "      <td>6.1101</td>\n",
       "      <td>17.5920</td>\n",
       "    </tr>\n",
       "    <tr>\n",
       "      <th>1</th>\n",
       "      <td>5.5277</td>\n",
       "      <td>9.1302</td>\n",
       "    </tr>\n",
       "    <tr>\n",
       "      <th>2</th>\n",
       "      <td>8.5186</td>\n",
       "      <td>13.6620</td>\n",
       "    </tr>\n",
       "    <tr>\n",
       "      <th>3</th>\n",
       "      <td>7.0032</td>\n",
       "      <td>11.8540</td>\n",
       "    </tr>\n",
       "    <tr>\n",
       "      <th>4</th>\n",
       "      <td>5.8598</td>\n",
       "      <td>6.8233</td>\n",
       "    </tr>\n",
       "  </tbody>\n",
       "</table>\n",
       "</div>"
      ],
      "text/plain": [
       "   population   profit\n",
       "0      6.1101  17.5920\n",
       "1      5.5277   9.1302\n",
       "2      8.5186  13.6620\n",
       "3      7.0032  11.8540\n",
       "4      5.8598   6.8233"
      ]
     },
     "execution_count": 3,
     "metadata": {},
     "output_type": "execute_result"
    }
   ],
   "source": [
    "# importing dataset\n",
    "df = pd.read_csv('data/ex1data1.csv')\n",
    "df.head()"
   ]
  },
  {
   "cell_type": "code",
   "execution_count": 3,
   "metadata": {},
   "outputs": [],
   "source": [
    "# extracting the training data\n",
    "X = df.iloc[:, :-1].values\n",
    "y = df.iloc[:, 1:2].values"
   ]
  },
  {
   "cell_type": "code",
   "execution_count": 4,
   "metadata": {},
   "outputs": [
    {
     "data": {
      "text/plain": [
       "Text(0, 0.5, 'Profit in $ 10,000s')"
      ]
     },
     "execution_count": 4,
     "metadata": {},
     "output_type": "execute_result"
    },
    {
     "data": {
      "image/png": "[encoded data removed]",
      "text/plain": [
       "<Figure size 432x288 with 1 Axes>"
      ]
     },
     "metadata": {
      "needs_background": "light"
     },
     "output_type": "display_data"
    }
   ],
   "source": [
    "# plotting the training set \n",
    "plt.scatter(X, y, color='red')\n",
    "plt.title('Population vs Profit')\n",
    "plt.xlabel('Population of City in 10,000s')\n",
    "plt.ylabel('Profit in $ 10,000s')"
   ]
  },
  {
   "cell_type": "code",
   "execution_count": 5,
   "metadata": {},
   "outputs": [
    {
     "name": "stdout",
     "output_type": "stream",
     "text": [
      "Cost function J: [32.07273388]\n"
     ]
    }
   ],
   "source": [
    "# cost function\n",
    "def computeCost(X, y, theta):\n",
    "    yhat = np.dot(X, theta)\n",
    "    J = (1/(2*m))*sum((yhat - y)**2)\n",
    "    return J\n",
    "\n",
    "# get the number of training examples\n",
    "m = len(X)\n",
    "\n",
    "# adding a column of 1's to X for theta_0\n",
    "X_train = np.concatenate((np.ones((m,1)), X), axis=1)\n",
    "\n",
    "# initializing theta, for single feature only 2 feature weights: theta_0 and theta_1\n",
    "theta_prelim = np.zeros((2, 1))\n",
    "\n",
    "# computing initial value of cost function\n",
    "J = computeCost(X_train, y, theta_prelim)\n",
    "print('Cost function J:', J)"
   ]
  },
  {
   "cell_type": "code",
   "execution_count": 6,
   "metadata": {},
   "outputs": [],
   "source": [
    "# implementing gradient descent\n",
    "def gradientDescent(X, y, theta, alpha, num_iters):\n",
    "    J_history = np.zeros((num_iters, 1))\n",
    "    \n",
    "    for i in range(num_iters):\n",
    "        yhat = X.dot(theta)\n",
    "        gradients = (X.T).dot((yhat - y))\n",
    "        theta = theta - alpha * (1/m) * gradients\n",
    "        J_history[i] = computeCost(X, y, theta)\n",
    "        \n",
    "    # return theta and J_history\n",
    "    return (theta, J_history)"
   ]
  },
  {
   "cell_type": "code",
   "execution_count": 7,
   "metadata": {},
   "outputs": [
    {
     "name": "stdout",
     "output_type": "stream",
     "text": [
      "theta: [[-3.89530051]\n",
      " [ 1.19298539]]\n"
     ]
    }
   ],
   "source": [
    "# setting values for gradient descent implementation\n",
    "# learning rate and no. of iterations\n",
    "alpha = 0.01\n",
    "num_iters = 5000\n",
    "\n",
    "# calculate theta and J's\n",
    "(theta, J_hist) = gradientDescent(X_train, y, theta_prelim, alpha, num_iters)\n",
    "\n",
    "# print the minimum theta\n",
    "print('theta:',theta)"
   ]
  },
  {
   "cell_type": "code",
   "execution_count": 8,
   "metadata": {},
   "outputs": [
    {
     "name": "stdout",
     "output_type": "stream",
     "text": [
      "R2 :  0.7020315523859603\n"
     ]
    }
   ],
   "source": [
    "# model evaluation\n",
    "RSS = ((y - X_train.dot(theta))**2).sum()  # RSS = Residual Sum of Squares\n",
    "TSS = ((y - y.mean())**2).sum()            # TSS = Total Sum of Squares\n",
    "R2 = 1 - RSS/TSS\n",
    "print('R2 : ', R2)"
   ]
  },
  {
   "cell_type": "code",
   "execution_count": 9,
   "metadata": {},
   "outputs": [
    {
     "data": {
      "text/plain": [
       "<matplotlib.legend.Legend at 0x8d6a668>"
      ]
     },
     "execution_count": 9,
     "metadata": {},
     "output_type": "execute_result"
    },
    {
     "data": {
      "image/png": "[encoded data removed]",
      "text/plain": [
       "<Figure size 432x288 with 1 Axes>"
      ]
     },
     "metadata": {
      "needs_background": "light"
     },
     "output_type": "display_data"
    }
   ],
   "source": [
    "# Plotting the training results\n",
    "fig = plt.figure()\n",
    "axes = fig.add_axes([0,0,1.0,1.0])\n",
    "axes.scatter(X, y, color='red', label='Training data', alpha=0.8)\n",
    "axes.plot(X, X_train.dot(theta), color='blue', label='Linear regression')\n",
    "axes.set_xlabel('Population of City in 10,000s')\n",
    "axes.set_ylabel('Profit in $ 10,000s')\n",
    "axes.set_title('Population vs Profit')\n",
    "axes.legend()"
   ]
  },
  {
   "cell_type": "markdown",
   "metadata": {},
   "source": [
    "## LINEAR REGRESSION USING SCIKIT-LEARN\n"
   ]
  },
  {
   "cell_type": "code",
   "execution_count": 10,
   "metadata": {},
   "outputs": [
    {
     "data": {
      "text/plain": [
       "LinearRegression(copy_X=True, fit_intercept=True, n_jobs=None, normalize=False)"
      ]
     },
     "execution_count": 10,
     "metadata": {},
     "output_type": "execute_result"
    }
   ],
   "source": [
    "# fitting simple linear regression to the training set\n",
    "from sklearn.linear_model import LinearRegression\n",
    "reg = LinearRegression()\n",
    "reg.fit(X, y)"
   ]
  },
  {
   "cell_type": "code",
   "execution_count": 11,
   "metadata": {},
   "outputs": [
    {
     "name": "stdout",
     "output_type": "stream",
     "text": [
      "Y-itercept / bias, theta_0: [-3.89578088]\n",
      "Slope of the line, theta_1: [[1.19303364]]\n"
     ]
    }
   ],
   "source": [
    "# retrieving the coefficient and intercept\n",
    "theta_0 = reg.intercept_\n",
    "theta_1 = reg.coef_\n",
    "\n",
    "print('Y-itercept / bias, theta_0:', theta_0)\n",
    "print('Slope of the line, theta_1:', theta_1)"
   ]
  },
  {
   "cell_type": "code",
   "execution_count": 14,
   "metadata": {},
   "outputs": [
    {
     "name": "stdout",
     "output_type": "stream",
     "text": [
      "r2 score : 0.7020315537841397\n"
     ]
    }
   ],
   "source": [
    "# checking regression accuracy\n",
    "from sklearn.metrics import r2_score\n",
    "y_pred = reg.predict(X)\n",
    "R2 = r2_score(y, y_pred)\n",
    "print('r2 score :', R2)"
   ]
  },
  {
   "cell_type": "code",
   "execution_count": null,
   "metadata": {},
   "outputs": [],
   "source": []
  },
  {
   "cell_type": "code",
   "execution_count": null,
   "metadata": {},
   "outputs": [],
   "source": []
  }
 ],
 "metadata": {
  "kernelspec": {
   "display_name": "Python 3",
   "language": "python",
   "name": "python3"
  },
  "language_info": {
   "codemirror_mode": {
    "name": "ipython",
    "version": 3
   },
   "file_extension": ".py",
   "mimetype": "text/x-python",
   "name": "python",
   "nbconvert_exporter": "python",
   "pygments_lexer": "ipython3",
   "version": "3.7.3"
  }
 },
 "nbformat": 4,
 "nbformat_minor": 2
}
