{
 "cells": [
  {
   "cell_type": "markdown",
   "metadata": {},
   "source": [
    "## Logistic Regression\n",
    "<p> Based on Andrew Ng's lecture on Stanford Machine Learning</p>\n",
    "<p> A dataset has grades of students for 2 exams (exam-1 and exam-2) and is used to predict if the student can be admitted or not in the university."
   ]
  },
  {
   "cell_type": "code",
   "execution_count": 2,
   "metadata": {},
   "outputs": [],
   "source": [
    "# importing libraries\n",
    "import numpy as np\n",
    "import pandas as pd\n",
    "import matplotlib.pyplot as plt\n",
    "%matplotlib inline"
   ]
  },
  {
   "cell_type": "code",
   "execution_count": 4,
   "metadata": {},
   "outputs": [
    {
     "data": {
      "text/html": [
       "<div>\n",
       "<style scoped>\n",
       "    .dataframe tbody tr th:only-of-type {\n",
       "        vertical-align: middle;\n",
       "    }\n",
       "\n",
       "    .dataframe tbody tr th {\n",
       "        vertical-align: top;\n",
       "    }\n",
       "\n",
       "    .dataframe thead th {\n",
       "        text-align: right;\n",
       "    }\n",
       "</style>\n",
       "<table border=\"1\" class=\"dataframe\">\n",
       "  <thead>\n",
       "    <tr style=\"text-align: right;\">\n",
       "      <th></th>\n",
       "      <th>grade1</th>\n",
       "      <th>grade2</th>\n",
       "      <th>admission</th>\n",
       "    </tr>\n",
       "  </thead>\n",
       "  <tbody>\n",
       "    <tr>\n",
       "      <th>0</th>\n",
       "      <td>34.623660</td>\n",
       "      <td>78.024693</td>\n",
       "      <td>0</td>\n",
       "    </tr>\n",
       "    <tr>\n",
       "      <th>1</th>\n",
       "      <td>30.286711</td>\n",
       "      <td>43.894998</td>\n",
       "      <td>0</td>\n",
       "    </tr>\n",
       "    <tr>\n",
       "      <th>2</th>\n",
       "      <td>35.847409</td>\n",
       "      <td>72.902198</td>\n",
       "      <td>0</td>\n",
       "    </tr>\n",
       "    <tr>\n",
       "      <th>3</th>\n",
       "      <td>60.182599</td>\n",
       "      <td>86.308552</td>\n",
       "      <td>1</td>\n",
       "    </tr>\n",
       "    <tr>\n",
       "      <th>4</th>\n",
       "      <td>79.032736</td>\n",
       "      <td>75.344376</td>\n",
       "      <td>1</td>\n",
       "    </tr>\n",
       "  </tbody>\n",
       "</table>\n",
       "</div>"
      ],
      "text/plain": [
       "      grade1     grade2  admission\n",
       "0  34.623660  78.024693          0\n",
       "1  30.286711  43.894998          0\n",
       "2  35.847409  72.902198          0\n",
       "3  60.182599  86.308552          1\n",
       "4  79.032736  75.344376          1"
      ]
     },
     "execution_count": 4,
     "metadata": {},
     "output_type": "execute_result"
    }
   ],
   "source": [
    "# importing dataset\n",
    "df = pd.read_csv('data/ex2data1.csv')\n",
    "df.head()"
   ]
  },
  {
   "cell_type": "code",
   "execution_count": 3,
   "metadata": {},
   "outputs": [],
   "source": [
    "# extracting the training data to save into arrays\n",
    "X = df.iloc[:, 0:2].values\n",
    "y = df.iloc[:, 2:3].values"
   ]
  },
  {
   "cell_type": "code",
   "execution_count": 4,
   "metadata": {},
   "outputs": [
    {
     "data": {
      "text/plain": [
       "Text(0, 0.5, 'Grades for Exam-2')"
      ]
     },
     "execution_count": 4,
     "metadata": {},
     "output_type": "execute_result"
    },
    {
     "data": {
      "image/png": "[encoded data removed]",
      "text/plain": [
       "<Figure size 432x288 with 1 Axes>"
      ]
     },
     "metadata": {
      "needs_background": "light"
     },
     "output_type": "display_data"
    }
   ],
   "source": [
    "# plotting the training examples\n",
    "# find indeces for positive and negative examples\n",
    "pos = np.where(y == 1)\n",
    "neg = np.where(y == 0)\n",
    "\n",
    "plt.scatter(X[pos, 0], X[pos, 1], color='green', marker='o')\n",
    "plt.scatter(X[neg, 0], X[neg, 1], color='red', marker='x')\n",
    "plt.title('Students Admitted in the University')\n",
    "plt.xlabel('Grades for Exam-1')\n",
    "plt.ylabel('Grades for Exam-2')"
   ]
  },
  {
   "cell_type": "code",
   "execution_count": 5,
   "metadata": {},
   "outputs": [],
   "source": [
    "# setting up the data matrix: m = no. of training examples, n = no. of features\n",
    "m = X.shape[0]\n",
    "\n",
    "# adding 1's to X\n",
    "X_train = np.concatenate((np.ones((m, 1)), X), axis=1)\n"
   ]
  },
  {
   "cell_type": "code",
   "execution_count": 6,
   "metadata": {},
   "outputs": [],
   "source": [
    "# sigmoid function\n",
    "import math\n",
    "def sigmoid(z):\n",
    "    g = 1 / (1 + math.exp(-z))\n",
    "    return g"
   ]
  },
  {
   "cell_type": "code",
   "execution_count": 7,
   "metadata": {},
   "outputs": [],
   "source": [
    "# fuction to calculate cost function (J) and gradient\n",
    "def costFunction(X, y, theta):\n",
    "    [m, n] = X.shape\n",
    "    grad = np.zeros((theta.size))\n",
    "    J = 0\n",
    "    for i in range(m):\n",
    "        z = X[i, :].dot(theta)\n",
    "        h = sigmoid(z)\n",
    "        J -= (1/m) * (-y[i] * math.log(h) - (1 - y[i]) * math.log(1 - h))\n",
    "    \n",
    "    for j in range(n):\n",
    "        for i in range(m):\n",
    "            z = X[i, :].dot(theta)\n",
    "            h = sigmoid(z)\n",
    "            grad[j] -= -(1/m) * ((h - y[i]) * X[i, j])\n",
    "    return (J, grad)"
   ]
  },
  {
   "cell_type": "code",
   "execution_count": 8,
   "metadata": {},
   "outputs": [
    {
     "name": "stdout",
     "output_type": "stream",
     "text": [
      "At initial_theta:\n",
      "Cost function, J: [-0.69314718]\n",
      "Gradient descent: [ -0.1        -12.00921659 -11.26284221]\n",
      "Using test_theta:\n",
      "Cost function, J: [-0.21833019]\n",
      "Gradient descent: [0.04290299 2.56623412 2.64679737]\n"
     ]
    }
   ],
   "source": [
    "# initial value of theta\n",
    "n = X_train.shape[1]\n",
    "initial_theta = np.zeros((n, 1))\n",
    "\n",
    "# initialize grad vector\n",
    "grad = np.zeros((initial_theta.size))\n",
    "\n",
    "# calculate cost function and gradient descent\n",
    "(J, grad) = costFunction(X_train, y, initial_theta)\n",
    "\n",
    "# using intital theta\n",
    "print('At initial_theta:')\n",
    "print('Cost function, J:', J)\n",
    "print('Gradient descent:', grad)\n",
    "\n",
    "# using test_theta\n",
    "test_theta = np.array([[-24], [0.2], [0.2]])\n",
    "[J, grad] = costFunction(X_train, y, test_theta)\n",
    "print('Using test_theta:')\n",
    "print('Cost function, J:', J)\n",
    "print('Gradient descent:', grad)\n"
   ]
  },
  {
   "cell_type": "code",
   "execution_count": 9,
   "metadata": {},
   "outputs": [
    {
     "data": {
      "text/plain": [
       "[<matplotlib.lines.Line2D at 0x8d88be0>]"
      ]
     },
     "execution_count": 9,
     "metadata": {},
     "output_type": "execute_result"
    },
    {
     "data": {
      "image/png": "[encoded data removed]",
      "text/plain": [
       "<Figure size 432x288 with 1 Axes>"
      ]
     },
     "metadata": {
      "needs_background": "light"
     },
     "output_type": "display_data"
    }
   ],
   "source": [
    "# plotting the training examples\n",
    "# find indeces for positive and negative examples\n",
    "pos = np.where(y == 1)\n",
    "neg = np.where(y == 0)\n",
    "plt.scatter(X[pos, 0], X[pos, 1], color='green', marker='o')\n",
    "plt.scatter(X[neg, 0], X[neg, 1], color='red', marker='x')\n",
    "plt.title('Students Admitted in the University')\n",
    "plt.xlabel('Grades for Exam-1')\n",
    "plt.ylabel('Grades for Exam-2')\n",
    "\n",
    "# plotting the decision boundary\n",
    "xp = np.array([[min(X[:, 1])-2, max(X[:, 1])+2]]).T\n",
    "yp = (1/grad[2])*(grad[1]*xp + grad[0])\n",
    "temp0 = yp[0,0]\n",
    "temp1 = yp[1,0]\n",
    "ynew = np.array([[temp1], [temp0]])\n",
    "plt.plot(xp, ynew, color='blue')\n"
   ]
  },
  {
   "cell_type": "code",
   "execution_count": 10,
   "metadata": {},
   "outputs": [
    {
     "name": "stdout",
     "output_type": "stream",
     "text": [
      "[[1.]]\n"
     ]
    }
   ],
   "source": [
    "# predicting the probability\n",
    "def predict(X, theta):\n",
    "    m = X.shape[0]\n",
    "    p = np.zeros((m,1))\n",
    "    for i in range(m):\n",
    "        a = X[i, :]\n",
    "        z = a.dot(theta)\n",
    "        probability = sigmoid(z)\n",
    "        if (probability >= 0.5):\n",
    "            p[i,0] = 1.0\n",
    "        else:\n",
    "            p[i,0] = 0.0\n",
    "    return p\n",
    "                \n",
    "# predict using the example : [1, 45, 85]\n",
    "x1 = np.array([[1, 45, 85]])\n",
    "p = predict(x1, grad) \n",
    "print(p)"
   ]
  },
  {
   "cell_type": "markdown",
   "metadata": {},
   "source": [
    "### Using scikit-Learn"
   ]
  },
  {
   "cell_type": "code",
   "execution_count": 11,
   "metadata": {},
   "outputs": [
    {
     "data": {
      "text/plain": [
       "LogisticRegression(C=1.0, class_weight=None, dual=False, fit_intercept=True,\n",
       "                   intercept_scaling=1, l1_ratio=None, max_iter=100,\n",
       "                   multi_class='warn', n_jobs=None, penalty='l2',\n",
       "                   random_state=None, solver='liblinear', tol=0.0001, verbose=0,\n",
       "                   warm_start=False)"
      ]
     },
     "execution_count": 11,
     "metadata": {},
     "output_type": "execute_result"
    }
   ],
   "source": [
    "\n",
    "from sklearn.linear_model import LogisticRegression\n",
    "logmodel = LogisticRegression(solver='liblinear')\n",
    "logmodel.fit(X_train, y.reshape(m))"
   ]
  },
  {
   "cell_type": "code",
   "execution_count": 12,
   "metadata": {},
   "outputs": [
    {
     "name": "stdout",
     "output_type": "stream",
     "text": [
      "[0 0 0 1 1 0 1 1 1 1 1 0 1 1 0 1 1 0 1 1 0 1 0 0 1 1 1 1 0 0 1 1 0 1 0 0 1\n",
      " 1 1 0 1 0 1 1 0 0 1 1 1 1 1 1 1 0 0 0 1 1 1 1 1 0 0 0 0 0 1 0 1 1 0 1 1 1\n",
      " 1 1 1 1 0 1 1 1 1 0 1 1 1 1 1 0 1 1 0 1 1 1 1 1 1 1]\n"
     ]
    }
   ],
   "source": [
    "# predict values for the testing data\n",
    "predictions = logmodel.predict(X_train)\n",
    "print(predictions)"
   ]
  },
  {
   "cell_type": "code",
   "execution_count": 13,
   "metadata": {},
   "outputs": [
    {
     "name": "stdout",
     "output_type": "stream",
     "text": [
      "              precision    recall  f1-score   support\n",
      "\n",
      "           0       0.97      0.80      0.88        40\n",
      "           1       0.88      0.98      0.93        60\n",
      "\n",
      "    accuracy                           0.91       100\n",
      "   macro avg       0.93      0.89      0.90       100\n",
      "weighted avg       0.92      0.91      0.91       100\n",
      "\n",
      "[[32  8]\n",
      " [ 1 59]]\n"
     ]
    }
   ],
   "source": [
    "# create classification report\n",
    "from sklearn.metrics import classification_report, confusion_matrix\n",
    "print(classification_report(y, predictions))\n",
    "print(confusion_matrix(y, predictions))"
   ]
  },
  {
   "cell_type": "code",
   "execution_count": null,
   "metadata": {},
   "outputs": [],
   "source": []
  }
 ],
 "metadata": {
  "kernelspec": {
   "display_name": "Python 3",
   "language": "python",
   "name": "python3"
  },
  "language_info": {
   "codemirror_mode": {
    "name": "ipython",
    "version": 3
   },
   "file_extension": ".py",
   "mimetype": "text/x-python",
   "name": "python",
   "nbconvert_exporter": "python",
   "pygments_lexer": "ipython3",
   "version": "3.7.3"
  }
 },
 "nbformat": 4,
 "nbformat_minor": 2
}
