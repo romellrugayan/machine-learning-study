{
 "cells": [
  {
   "cell_type": "markdown",
   "metadata": {},
   "source": [
    "## Multiple Linear Regression\n",
    "<p> Based on Andrew Ng's lecture on Stanford Machine Learning</p>\n",
    "<p> A dataset is used to predict the house price given 2 predictors/independent variables (area and no. of bedrooms)    "
   ]
  },
  {
   "cell_type": "code",
   "execution_count": 1,
   "metadata": {},
   "outputs": [],
   "source": [
    "# importing libraries\n",
    "import numpy as np\n",
    "import pandas as pd\n",
    "import matplotlib.pyplot as plt\n",
    "%matplotlib inline"
   ]
  },
  {
   "cell_type": "code",
   "execution_count": 3,
   "metadata": {},
   "outputs": [
    {
     "data": {
      "text/html": [
       "<div>\n",
       "<style scoped>\n",
       "    .dataframe tbody tr th:only-of-type {\n",
       "        vertical-align: middle;\n",
       "    }\n",
       "\n",
       "    .dataframe tbody tr th {\n",
       "        vertical-align: top;\n",
       "    }\n",
       "\n",
       "    .dataframe thead th {\n",
       "        text-align: right;\n",
       "    }\n",
       "</style>\n",
       "<table border=\"1\" class=\"dataframe\">\n",
       "  <thead>\n",
       "    <tr style=\"text-align: right;\">\n",
       "      <th></th>\n",
       "      <th>area</th>\n",
       "      <th>bedrooms</th>\n",
       "      <th>price</th>\n",
       "    </tr>\n",
       "  </thead>\n",
       "  <tbody>\n",
       "    <tr>\n",
       "      <th>0</th>\n",
       "      <td>2104</td>\n",
       "      <td>3</td>\n",
       "      <td>399900</td>\n",
       "    </tr>\n",
       "    <tr>\n",
       "      <th>1</th>\n",
       "      <td>1600</td>\n",
       "      <td>3</td>\n",
       "      <td>329900</td>\n",
       "    </tr>\n",
       "    <tr>\n",
       "      <th>2</th>\n",
       "      <td>2400</td>\n",
       "      <td>3</td>\n",
       "      <td>369000</td>\n",
       "    </tr>\n",
       "    <tr>\n",
       "      <th>3</th>\n",
       "      <td>1416</td>\n",
       "      <td>2</td>\n",
       "      <td>232000</td>\n",
       "    </tr>\n",
       "    <tr>\n",
       "      <th>4</th>\n",
       "      <td>3000</td>\n",
       "      <td>4</td>\n",
       "      <td>539900</td>\n",
       "    </tr>\n",
       "  </tbody>\n",
       "</table>\n",
       "</div>"
      ],
      "text/plain": [
       "   area  bedrooms   price\n",
       "0  2104         3  399900\n",
       "1  1600         3  329900\n",
       "2  2400         3  369000\n",
       "3  1416         2  232000\n",
       "4  3000         4  539900"
      ]
     },
     "execution_count": 3,
     "metadata": {},
     "output_type": "execute_result"
    }
   ],
   "source": [
    "# importing the dataset\n",
    "df = pd.read_csv('data/ex1data2.csv')\n",
    "df.head()"
   ]
  },
  {
   "cell_type": "code",
   "execution_count": 10,
   "metadata": {},
   "outputs": [],
   "source": [
    "# extracting training data from dataset\n",
    "X = df.iloc[:, 0:2].values.astype(float)\n",
    "y = df.iloc[:, 2:3].values.astype(float)"
   ]
  },
  {
   "cell_type": "code",
   "execution_count": 28,
   "metadata": {},
   "outputs": [],
   "source": [
    "# normalize the training data\n",
    "def featureNormalize(X):\n",
    "    X_norm = X\n",
    "    num_features = X.shape[1]\n",
    "    num_examples = X.shape[0]\n",
    "    mu = np.zeros((1, num_features))\n",
    "    sigma = np.zeros((1, num_features))\n",
    "    \n",
    "    # calculate per feature\n",
    "    for j in range(num_features):\n",
    "        mu[0,j] = np.mean(X[:, j])\n",
    "        sigma[0,j] = np.std(X[:, j])\n",
    "        \n",
    "        for i in range(num_examples):\n",
    "            X_norm[i, j] = (X_norm[i, j] - mu[0,j]) / sigma[0, j]\n",
    "                     \n",
    "    return X_norm, mu, sigma"
   ]
  },
  {
   "cell_type": "code",
   "execution_count": 29,
   "metadata": {},
   "outputs": [
    {
     "name": "stdout",
     "output_type": "stream",
     "text": [
      "[[ 0.131 -0.226]\n",
      " [-0.51  -0.226]\n",
      " [ 0.508 -0.226]\n",
      " [-0.744 -1.554]\n",
      " [ 1.271  1.102]]\n"
     ]
    }
   ],
   "source": [
    "[X_norm, mu, sigma] = featureNormalize(X)\n",
    "np.set_printoptions(suppress=True, precision=3)\n",
    "print(X_norm[:5, :])"
   ]
  },
  {
   "cell_type": "code",
   "execution_count": null,
   "metadata": {},
   "outputs": [],
   "source": []
  },
  {
   "cell_type": "code",
   "execution_count": 23,
   "metadata": {},
   "outputs": [],
   "source": [
    "# get the number of training examples\n",
    "m = X.shape[0]\n",
    "\n",
    "# cost function\n",
    "def computeCost(X, y, theta):\n",
    "    yhat = np.dot(X, theta)\n",
    "    J = (1/(2*m))*sum((yhat - y)**2)\n",
    "    return J\n",
    "\n",
    "# implementing gradient descent\n",
    "def gradientDescent(X, y, theta, alpha, num_iters):\n",
    "    J_history = np.zeros((num_iters, 1))\n",
    "    \n",
    "    for i in range(num_iters):\n",
    "        yhat = X.dot(theta)\n",
    "        gradients = (X.T).dot((yhat - y))\n",
    "        theta = theta - alpha * (1/m) * gradients\n",
    "        J_history[i] = computeCost(X, y, theta)\n",
    "        \n",
    "    # return theta and J_history\n",
    "    return (theta, J_history)"
   ]
  },
  {
   "cell_type": "code",
   "execution_count": 17,
   "metadata": {},
   "outputs": [],
   "source": []
  },
  {
   "cell_type": "code",
   "execution_count": 27,
   "metadata": {},
   "outputs": [
    {
     "name": "stdout",
     "output_type": "stream",
     "text": [
      "Minimum theta determined by gradient descent:\n",
      " [[340412.66 ]\n",
      " [109447.795]\n",
      " [ -6578.354]]\n",
      "Minimum Cost function, J: [2.043e+09]\n"
     ]
    }
   ],
   "source": [
    "# setting values for gradient descent implementation\n",
    "# adding a column of 1's to X for theta_0\n",
    "X_train = np.concatenate((np.ones((m,1)), X), axis=1)\n",
    "\n",
    "# initializing theta for 2-predictors and bias term: theta_0, theta_1 and theta_2\n",
    "theta_prelim = np.zeros((3, 1))\n",
    "\n",
    "# learning rate and no. of iterations\n",
    "alpha = 0.01\n",
    "num_iters = 4000\n",
    "\n",
    "# calculate minimum theta and J's\n",
    "(theta, J_hist) = gradientDescent(X_train, y, theta_prelim, alpha, num_iters)\n",
    "\n",
    "# print minimum theta\n",
    "print('Minimum theta determined by gradient descent:\\n',theta)\n",
    "print('Minimum Cost function, J:',J_hist[num_iters-1])"
   ]
  },
  {
   "cell_type": "markdown",
   "metadata": {},
   "source": [
    "### Using scikit-Learn"
   ]
  },
  {
   "cell_type": "code",
   "execution_count": null,
   "metadata": {},
   "outputs": [],
   "source": [
    "# Using scikit-Learn\n",
    "from sklearn.linear_model import LinearRegression\n",
    "reg = LinearRegression()\n",
    "reg.fit(Xtrain, y)"
   ]
  },
  {
   "cell_type": "code",
   "execution_count": null,
   "metadata": {},
   "outputs": [],
   "source": [
    "# retrieving bias and features weight\n",
    "print(reg.intercept_, reg.coef_)"
   ]
  },
  {
   "cell_type": "markdown",
   "metadata": {},
   "source": [
    "### Using Normal Equation"
   ]
  },
  {
   "cell_type": "code",
   "execution_count": null,
   "metadata": {},
   "outputs": [],
   "source": [
    "# Using Normal Equation with numpy linear algebra function\n",
    "theta_best = np.linalg.inv(Xtrain.T.dot(Xtrain)).dot(Xtrain.T).dot(y)\n",
    "print (theta_best)"
   ]
  },
  {
   "cell_type": "code",
   "execution_count": null,
   "metadata": {},
   "outputs": [],
   "source": [
    "# Using pseudoinverse function (Moore-Penrose inverse)\n",
    "theta_pinv = np.linalg.pinv(Xtrain).dot(y)\n",
    "print(theta_pinv)"
   ]
  },
  {
   "cell_type": "code",
   "execution_count": null,
   "metadata": {},
   "outputs": [],
   "source": [
    "from mpl_toolkits.mplot3d import Axes3D\n",
    "fig = plt.figure()\n",
    "ax = Axes3D(fig)\n",
    "ax.scatter(X[:,0], X[:,1], zs=y, zdir='z')\n",
    "yhat = Xtrain.dot(theta)\n",
    "ax.scatter(X[:,0], X[:,1], zs=yhat, zdir='z', c='red')\n"
   ]
  },
  {
   "cell_type": "code",
   "execution_count": null,
   "metadata": {},
   "outputs": [],
   "source": []
  },
  {
   "cell_type": "code",
   "execution_count": null,
   "metadata": {},
   "outputs": [],
   "source": []
  }
 ],
 "metadata": {
  "kernelspec": {
   "display_name": "Python 3",
   "language": "python",
   "name": "python3"
  },
  "language_info": {
   "codemirror_mode": {
    "name": "ipython",
    "version": 3
   },
   "file_extension": ".py",
   "mimetype": "text/x-python",
   "name": "python",
   "nbconvert_exporter": "python",
   "pygments_lexer": "ipython3",
   "version": "3.7.3"
  }
 },
 "nbformat": 4,
 "nbformat_minor": 2
}
