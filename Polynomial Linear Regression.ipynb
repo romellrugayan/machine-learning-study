{
 "cells": [
  {
   "cell_type": "markdown",
   "metadata": {},
   "source": [
    "## Polynomial Linear Regression\n",
    "<p>A dataset is the collected salaries of employees that correspond to their positions.</p>\n",
    "<p>The objective is to predict the salary of new hired employee</p>"
   ]
  },
  {
   "cell_type": "code",
   "execution_count": 1,
   "metadata": {},
   "outputs": [],
   "source": [
    "# imoporting the libraries\n",
    "import numpy as np\n",
    "import pandas as pd\n",
    "import matplotlib.pyplot as plt\n",
    "%matplotlib inline"
   ]
  },
  {
   "cell_type": "code",
   "execution_count": 2,
   "metadata": {},
   "outputs": [
    {
     "data": {
      "text/html": [
       "<div>\n",
       "<style scoped>\n",
       "    .dataframe tbody tr th:only-of-type {\n",
       "        vertical-align: middle;\n",
       "    }\n",
       "\n",
       "    .dataframe tbody tr th {\n",
       "        vertical-align: top;\n",
       "    }\n",
       "\n",
       "    .dataframe thead th {\n",
       "        text-align: right;\n",
       "    }\n",
       "</style>\n",
       "<table border=\"1\" class=\"dataframe\">\n",
       "  <thead>\n",
       "    <tr style=\"text-align: right;\">\n",
       "      <th></th>\n",
       "      <th>Position</th>\n",
       "      <th>Level</th>\n",
       "      <th>Salary</th>\n",
       "    </tr>\n",
       "  </thead>\n",
       "  <tbody>\n",
       "    <tr>\n",
       "      <th>0</th>\n",
       "      <td>Business Analyst</td>\n",
       "      <td>1</td>\n",
       "      <td>45000</td>\n",
       "    </tr>\n",
       "    <tr>\n",
       "      <th>1</th>\n",
       "      <td>Junior Consultant</td>\n",
       "      <td>2</td>\n",
       "      <td>50000</td>\n",
       "    </tr>\n",
       "    <tr>\n",
       "      <th>2</th>\n",
       "      <td>Senior Consultant</td>\n",
       "      <td>3</td>\n",
       "      <td>60000</td>\n",
       "    </tr>\n",
       "    <tr>\n",
       "      <th>3</th>\n",
       "      <td>Manager</td>\n",
       "      <td>4</td>\n",
       "      <td>80000</td>\n",
       "    </tr>\n",
       "    <tr>\n",
       "      <th>4</th>\n",
       "      <td>Country Manager</td>\n",
       "      <td>5</td>\n",
       "      <td>110000</td>\n",
       "    </tr>\n",
       "  </tbody>\n",
       "</table>\n",
       "</div>"
      ],
      "text/plain": [
       "            Position  Level  Salary\n",
       "0   Business Analyst      1   45000\n",
       "1  Junior Consultant      2   50000\n",
       "2  Senior Consultant      3   60000\n",
       "3            Manager      4   80000\n",
       "4    Country Manager      5  110000"
      ]
     },
     "execution_count": 2,
     "metadata": {},
     "output_type": "execute_result"
    }
   ],
   "source": [
    "# importing dataset\n",
    "dataset = pd.read_csv('data/salaries.csv')\n",
    "dataset.head()"
   ]
  },
  {
   "cell_type": "code",
   "execution_count": 36,
   "metadata": {},
   "outputs": [],
   "source": [
    "# extracting training examples from dataset\n",
    "X = dataset.iloc[:, 1:2].values\n",
    "y = dataset.iloc[:, 2:3].values"
   ]
  },
  {
   "cell_type": "code",
   "execution_count": 37,
   "metadata": {},
   "outputs": [
    {
     "data": {
      "text/plain": [
       "Text(0.5, 1.0, 'Standard Salary of Employee')"
      ]
     },
     "execution_count": 37,
     "metadata": {},
     "output_type": "execute_result"
    },
    {
     "data": {
      "image/png": "[encoded data removed]",
      "text/plain": [
       "<Figure size 432x288 with 1 Axes>"
      ]
     },
     "metadata": {
      "needs_background": "light"
     },
     "output_type": "display_data"
    }
   ],
   "source": [
    "# visualizing the training set\n",
    "plt.scatter(X, y)\n",
    "plt.xlabel('Position of the Employee')\n",
    "plt.ylabel('Yearly Salary in USD')\n",
    "plt.title('Standard Salary of Employee')"
   ]
  },
  {
   "cell_type": "code",
   "execution_count": 143,
   "metadata": {},
   "outputs": [
    {
     "name": "stdout",
     "output_type": "stream",
     "text": [
      "[[  1.   1.]\n",
      " [  2.   4.]\n",
      " [  3.   9.]\n",
      " [  4.  16.]\n",
      " [  5.  25.]\n",
      " [  6.  36.]\n",
      " [  7.  49.]\n",
      " [  8.  64.]\n",
      " [  9.  81.]\n",
      " [ 10. 100.]]\n"
     ]
    }
   ],
   "source": [
    "# From the above graph, a line cannot fit with the given points. Hence, we need to add feature with p-th degree\n",
    "# add second feature with p = 2\n",
    "\n",
    "def polyFeatures(X, p):\n",
    "    m = len(X)\n",
    "    X_poly = np.zeros((m, p))\n",
    "    for i in range(p):\n",
    "        X_poly[:, i] = X[:, 0]**(i+1)\n",
    "    return X_poly\n",
    "    \n",
    "# assign p-th = 2\n",
    "p = 2\n",
    "X_poly = polyFeatures(X, p)\n",
    "print(X_poly)"
   ]
  },
  {
   "cell_type": "code",
   "execution_count": 145,
   "metadata": {},
   "outputs": [
    {
     "data": {
      "text/plain": [
       "array([[-1.567, -1.157],\n",
       "       [-1.219, -1.064],\n",
       "       [-0.87 , -0.91 ],\n",
       "       [-0.522, -0.694],\n",
       "       [-0.174, -0.416],\n",
       "       [ 0.174, -0.077],\n",
       "       [ 0.522,  0.324],\n",
       "       [ 0.87 ,  0.787],\n",
       "       [ 1.219,  1.311],\n",
       "       [ 1.567,  1.897]])"
      ]
     },
     "execution_count": 145,
     "metadata": {},
     "output_type": "execute_result"
    }
   ],
   "source": [
    "# normalize the training data\n",
    "def featureNormalize(X):\n",
    "    X_norm = X\n",
    "    num_features = X.shape[1]\n",
    "    num_examples = X.shape[0]\n",
    "    mu = np.zeros((1, num_features))\n",
    "    sigma = np.zeros((1, num_features))\n",
    "    \n",
    "    # calculate per feature\n",
    "    for j in range(num_features):\n",
    "        mu[0,j] = np.mean(X[:, j])\n",
    "        sigma[0,j] = np.std(X[:, j])\n",
    "        \n",
    "        for i in range(num_examples):\n",
    "            X_norm[i, j] = (X_norm[i, j] - mu[0,j]) / sigma[0, j]\n",
    "                     \n",
    "    return X_norm, mu, sigma\n",
    "\n",
    "[X_norm, mu, sigma] = featureNormalize(X_poly)\n",
    "# np.set_printoptions(suppress=True, precision=3)\n",
    "X_norm"
   ]
  },
  {
   "cell_type": "code",
   "execution_count": 182,
   "metadata": {},
   "outputs": [],
   "source": [
    "# get the number of training examples\n",
    "m = X.shape[0]\n",
    "\n",
    "# cost function\n",
    "def computeCost(X, y, theta):\n",
    "    yhat = np.dot(X, theta)\n",
    "    J = (1/(2*m))*sum((yhat - y)**2)\n",
    "    return J\n",
    "\n",
    "# implementing gradient descent with regularization\n",
    "def gradientDescent(X, y, theta, alpha, num_iters, reg_lambda=0):\n",
    "    J_history = np.zeros((num_iters, 1))\n",
    "    \n",
    "    for i in range(num_iters):\n",
    "        yhat = X.dot(theta)\n",
    "        gradients = (X.T).dot((yhat - y)) + theta[1:].dot(reg_lambda).sum()\n",
    "        theta = theta - alpha * (1/m) * gradients\n",
    "        J_history[i] = computeCost(X, y, theta)\n",
    "        \n",
    "    # return theta and J_history\n",
    "    return theta, J_history"
   ]
  },
  {
   "cell_type": "code",
   "execution_count": 202,
   "metadata": {},
   "outputs": [
    {
     "name": "stdout",
     "output_type": "stream",
     "text": [
      "Minimum theta determined by gradient descent:\n",
      " [[ 249500.   ]\n",
      " [-378525.349]\n",
      " [ 626859.475]]\n",
      "Minimum cost function, J: [3.38e+09]\n"
     ]
    }
   ],
   "source": [
    "# setting values for gradient descent implementation\n",
    "# add 1's to X\n",
    "X_train = np.concatenate((np.ones((m,1)), X_norm), axis=1)\n",
    "\n",
    "# initializing theta for 2-predictors and bias term: theta_0, theta_1 and theta_2\n",
    "theta_prelim = np.zeros((X_train.shape[1], 1))\n",
    "\n",
    "# initializing theta for 2-predictors and bias term: theta_0, theta_1 and theta_2\n",
    "theta_prelim = np.zeros((X_train.shape[1], 1))\n",
    "\n",
    "# learning rate and no. of iterations\n",
    "alpha = 0.01\n",
    "num_iters = 20000\n",
    "\n",
    "# calculate minimum theta and J's\n",
    "theta, J_history = gradientDescent(X_train, y, theta_prelim, alpha, num_iters, reg_lambda=0)\n",
    "\n",
    "# print minimum theta\n",
    "print('Minimum theta determined by gradient descent:\\n',theta)\n",
    "print('Minimum cost function, J:', J_history[num_iters-1])\n"
   ]
  },
  {
   "cell_type": "code",
   "execution_count": 197,
   "metadata": {},
   "outputs": [
    {
     "data": {
      "text/plain": [
       "array([[121930.785],\n",
       "       [ 45514.452],\n",
       "       [  7400.163],\n",
       "       [  7587.918],\n",
       "       [ 46077.718],\n",
       "       [122869.561],\n",
       "       [237963.449],\n",
       "       [391359.381],\n",
       "       [583057.358],\n",
       "       [813057.379]])"
      ]
     },
     "execution_count": 197,
     "metadata": {},
     "output_type": "execute_result"
    }
   ],
   "source": [
    "# Predict the salaries based on the training model\n",
    "yhat = X_train.dot(theta)\n",
    "yhat"
   ]
  },
  {
   "cell_type": "code",
   "execution_count": 226,
   "metadata": {},
   "outputs": [
    {
     "data": {
      "text/plain": [
       "[<matplotlib.lines.Line2D at 0xd35a358>]"
      ]
     },
     "execution_count": 226,
     "metadata": {},
     "output_type": "execute_result"
    },
    {
     "data": {
      "image/png": "[encoded data removed]",
      "text/plain": [
       "<Figure size 432x288 with 1 Axes>"
      ]
     },
     "metadata": {
      "needs_background": "light"
     },
     "output_type": "display_data"
    }
   ],
   "source": [
    "# plotting the curve\n",
    "plt.scatter(X, y, c='red')\n",
    "plt.plot(X, yhat)"
   ]
  },
  {
   "cell_type": "code",
   "execution_count": 201,
   "metadata": {},
   "outputs": [
    {
     "name": "stdout",
     "output_type": "stream",
     "text": [
      "R2 :  0.9160512657553688\n"
     ]
    }
   ],
   "source": [
    "# model evaluation\n",
    "RSS = ((y - X_train.dot(theta))**2).sum()  # RSS = Residual Sum of Squares\n",
    "TSS = ((y - y.mean())**2).sum()            # TSS = Total Sum of Squares\n",
    "R2 = 1 - RSS/TSS\n",
    "print('R2 : ', R2)"
   ]
  },
  {
   "cell_type": "markdown",
   "metadata": {},
   "source": [
    "### Using scikit-Learn"
   ]
  },
  {
   "cell_type": "code",
   "execution_count": 217,
   "metadata": {},
   "outputs": [
    {
     "data": {
      "text/plain": [
       "LinearRegression(copy_X=True, fit_intercept=True, n_jobs=None, normalize=False)"
      ]
     },
     "execution_count": 217,
     "metadata": {},
     "output_type": "execute_result"
    }
   ],
   "source": [
    "# Fitting Polynomial Regression to the dataset\n",
    "from sklearn.preprocessing import PolynomialFeatures\n",
    "poly_reg = PolynomialFeatures(degree = 2)\n",
    "X_p = poly_reg.fit_transform(X)\n",
    "poly_reg.fit(X_p, y)\n",
    "from sklearn.linear_model import LinearRegression\n",
    "lin_reg = LinearRegression()\n",
    "lin_reg.fit(X_p, y)"
   ]
  },
  {
   "cell_type": "code",
   "execution_count": 219,
   "metadata": {},
   "outputs": [
    {
     "data": {
      "text/plain": [
       "array([[      0.   , -132871.212,   19431.818]])"
      ]
     },
     "execution_count": 219,
     "metadata": {},
     "output_type": "execute_result"
    }
   ],
   "source": [
    "lin_reg.coef_"
   ]
  },
  {
   "cell_type": "code",
   "execution_count": 220,
   "metadata": {},
   "outputs": [
    {
     "data": {
      "text/plain": [
       "Text(0, 0.5, 'Yearly Salary in USD')"
      ]
     },
     "execution_count": 220,
     "metadata": {},
     "output_type": "execute_result"
    },
    {
     "data": {
      "image/png": "[encoded data removed]",
      "text/plain": [
       "<Figure size 432x288 with 1 Axes>"
      ]
     },
     "metadata": {
      "needs_background": "light"
     },
     "output_type": "display_data"
    }
   ],
   "source": [
    "# Visualising the Polynomial Regression results\n",
    "plt.scatter(X, y, color = 'red')\n",
    "plt.plot(X, lin_reg.predict(poly_reg.fit_transform(X)), color = 'blue')\n",
    "plt.xlabel('Position of the Employee')\n",
    "plt.ylabel('Yearly Salary in USD')"
   ]
  },
  {
   "cell_type": "code",
   "execution_count": 229,
   "metadata": {},
   "outputs": [
    {
     "name": "stdout",
     "output_type": "stream",
     "text": [
      "r2 score : 0.9162082221443942\n"
     ]
    }
   ],
   "source": [
    "# checking regression accuracy\n",
    "from sklearn.metrics import r2_score\n",
    "y_pred = lin_reg.predict(poly_reg.fit_transform(X))\n",
    "R2 = r2_score(y, y_pred)\n",
    "print('r2 score :', R2)"
   ]
  },
  {
   "cell_type": "code",
   "execution_count": null,
   "metadata": {},
   "outputs": [],
   "source": []
  }
 ],
 "metadata": {
  "kernelspec": {
   "display_name": "Python 3",
   "language": "python",
   "name": "python3"
  },
  "language_info": {
   "codemirror_mode": {
    "name": "ipython",
    "version": 3
   },
   "file_extension": ".py",
   "mimetype": "text/x-python",
   "name": "python",
   "nbconvert_exporter": "python",
   "pygments_lexer": "ipython3",
   "version": "3.7.3"
  }
 },
 "nbformat": 4,
 "nbformat_minor": 2
}
