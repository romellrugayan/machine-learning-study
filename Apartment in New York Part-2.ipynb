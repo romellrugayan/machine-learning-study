{
 "cells": [
  {
   "cell_type": "markdown",
   "metadata": {},
   "source": [
    "## Machine Learning Project: Apartment Rent Price in NYC (Part 2)\n",
    "\n",
    "This study is based on Terrence Parr and Jeremy Howard's ebook: <a href=\"https://mlbook.explained.ai/\">The Mechanics of Machine Learning</a>\n",
    "\n",
    "You will need to install the following packages:\n",
    "\n",
    "- rfpimp              : pip install rfpimp\n",
    "- category_encoders   : pip install category_encoders"
   ]
  },
  {
   "cell_type": "code",
   "execution_count": 1,
   "metadata": {},
   "outputs": [],
   "source": [
    "# import libraries\n",
    "import pandas as pd\n",
    "import numpy as np\n",
    "import matplotlib.pyplot as plt\n",
    "%matplotlib inline"
   ]
  },
  {
   "cell_type": "code",
   "execution_count": 2,
   "metadata": {},
   "outputs": [],
   "source": [
    "# importing the dataset\n",
    "df = pd.read_csv(\"data/rent.csv\", parse_dates=['created'])\n",
    "\n",
    "# cleaning the data\n",
    "df_clean = df[(df.price>1_000) & (df.price<10_000)]\n",
    "df_clean = df_clean[(df_clean.longitude!=0) | (df_clean.latitude!=0)]\n",
    "df_clean = df_clean[(df_clean['latitude']>40.55) &\n",
    "                    (df_clean['latitude']<40.94) &\n",
    "                    (df_clean['longitude']>-74.1) &\n",
    "                    (df_clean['longitude']<-73.67)]\n",
    "df = df_clean"
   ]
  },
  {
   "cell_type": "code",
   "execution_count": 3,
   "metadata": {},
   "outputs": [
    {
     "name": "stdout",
     "output_type": "stream",
     "text": [
      "0.8678772188166795\n"
     ]
    }
   ],
   "source": [
    "# train the numeric features\n",
    "from rfpimp import * \n",
    "from sklearn.ensemble import RandomForestRegressor\n",
    "\n",
    "numfeatures = ['bathrooms', 'bedrooms', 'longitude', 'latitude']\n",
    "X, y = df[numfeatures], df['price']\n",
    "rf = RandomForestRegressor(n_estimators=100, n_jobs=-1, oob_score=True)\n",
    "rf.fit(X, y)\n",
    "oob_baseline = rf.oob_score_\n",
    "print(oob_baseline)"
   ]
  },
  {
   "cell_type": "code",
   "execution_count": 4,
   "metadata": {},
   "outputs": [
    {
     "name": "stdout",
     "output_type": "stream",
     "text": [
      "2,433,564 tree nodes and 35.0 median tree height\n"
     ]
    }
   ],
   "source": [
    "# total number of nodes in all decision trees of the forest and the height (in nodes) of the typical tree\n",
    "print(f\"{rfnnodes(rf):,d} tree nodes and {np.median(rfmaxdepths(rf))} median tree height\")"
   ]
  },
  {
   "cell_type": "code",
   "execution_count": 5,
   "metadata": {},
   "outputs": [],
   "source": [
    "# get the baseline for feature importances\n",
    "def showimp(rf, X, y):\n",
    "    features = list(X.columns)\n",
    "    features.remove('latitude')\n",
    "    features.remove('longitude')\n",
    "    features += [['latitude','longitude']]\n",
    "\n",
    "    I = importances(rf, X, y, features=features)\n",
    "    plot_importances(I, color='#4575b4')"
   ]
  },
  {
   "cell_type": "code",
   "execution_count": 8,
   "metadata": {},
   "outputs": [
    {
     "data": {
      "image/png": "[encoded data removed]",
      "text/plain": [
       "<Figure size 288x108 with 1 Axes>"
      ]
     },
     "metadata": {
      "needs_background": "light"
     },
     "output_type": "display_data"
    }
   ],
   "source": [
    "showimp(rf, X, y)"
   ]
  },
  {
   "cell_type": "markdown",
   "metadata": {},
   "source": [
    "### Encoding Categorical Variables"
   ]
  },
  {
   "cell_type": "code",
   "execution_count": 6,
   "metadata": {},
   "outputs": [
    {
     "name": "stdout",
     "output_type": "stream",
     "text": [
      "low       33270\n",
      "medium    11203\n",
      "high       3827\n",
      "Name: interest_level, dtype: int64\n"
     ]
    }
   ],
   "source": [
    "# interest_level feature\n",
    "print(df['interest_level'].value_counts())"
   ]
  },
  {
   "cell_type": "code",
   "execution_count": 7,
   "metadata": {},
   "outputs": [
    {
     "name": "stdout",
     "output_type": "stream",
     "text": [
      "1    33270\n",
      "2    11203\n",
      "3     3827\n",
      "Name: interest_level, dtype: int64\n"
     ]
    }
   ],
   "source": [
    "# converting ordinal variables from strings\n",
    "df['interest_level'] = df['interest_level'].map({'low':1,'medium':2,'high':3})\n",
    "print(df['interest_level'].value_counts())"
   ]
  },
  {
   "cell_type": "code",
   "execution_count": 8,
   "metadata": {},
   "outputs": [],
   "source": [
    "# create function that will test the features\n",
    "def test(X, y):\n",
    "    rf = RandomForestRegressor(n_estimators=100, n_jobs=-1, oob_score=True)\n",
    "    rf.fit(X, y)\n",
    "    oob = rf.oob_score_\n",
    "    n = rfnnodes(rf)\n",
    "    h = np.median(rfmaxdepths(rf))\n",
    "    print(f\"OOB R^2 {oob:.5f} using {n:,d} tree nodes with {h} median tree height\")\n",
    "    return rf, oob"
   ]
  },
  {
   "cell_type": "code",
   "execution_count": 9,
   "metadata": {},
   "outputs": [
    {
     "name": "stdout",
     "output_type": "stream",
     "text": [
      "OOB R^2 0.87021 using 3,023,564 tree nodes with 36.0 median tree height\n"
     ]
    }
   ],
   "source": [
    "# train the model then evaluate : numeric features + categorical variable\n",
    "X, y = df[['interest_level']+numfeatures], df['price']\n",
    "rf, oob = test(X, y)"
   ]
  },
  {
   "cell_type": "markdown",
   "metadata": {},
   "source": [
    "### Extracting Features from Strings"
   ]
  },
  {
   "cell_type": "code",
   "execution_count": 17,
   "metadata": {},
   "outputs": [],
   "source": [
    "# normalize the string columns to be lowercase and convert any missing values\n",
    "df['description'] = df['description'].fillna('')\n",
    "df['description'] = df['description'].str.lower() # normalize to lower case\n",
    "df['features'] = df['features'].fillna('') # fill missing w/blanks\n",
    "df['features'] = df['features'].str.lower() # normalize to lower case"
   ]
  },
  {
   "cell_type": "code",
   "execution_count": 18,
   "metadata": {},
   "outputs": [
    {
     "data": {
      "text/html": [
       "<div>\n",
       "<style scoped>\n",
       "    .dataframe tbody tr th:only-of-type {\n",
       "        vertical-align: middle;\n",
       "    }\n",
       "\n",
       "    .dataframe tbody tr th {\n",
       "        vertical-align: top;\n",
       "    }\n",
       "\n",
       "    .dataframe thead th {\n",
       "        text-align: right;\n",
       "    }\n",
       "</style>\n",
       "<table border=\"1\" class=\"dataframe\">\n",
       "  <thead>\n",
       "    <tr style=\"text-align: right;\">\n",
       "      <th></th>\n",
       "      <th>doorman</th>\n",
       "      <th>parking</th>\n",
       "      <th>garage</th>\n",
       "      <th>laundry</th>\n",
       "    </tr>\n",
       "  </thead>\n",
       "  <tbody>\n",
       "    <tr>\n",
       "      <th>0</th>\n",
       "      <td>False</td>\n",
       "      <td>False</td>\n",
       "      <td>False</td>\n",
       "      <td>True</td>\n",
       "    </tr>\n",
       "    <tr>\n",
       "      <th>1</th>\n",
       "      <td>True</td>\n",
       "      <td>False</td>\n",
       "      <td>False</td>\n",
       "      <td>True</td>\n",
       "    </tr>\n",
       "    <tr>\n",
       "      <th>2</th>\n",
       "      <td>True</td>\n",
       "      <td>False</td>\n",
       "      <td>False</td>\n",
       "      <td>True</td>\n",
       "    </tr>\n",
       "    <tr>\n",
       "      <th>3</th>\n",
       "      <td>False</td>\n",
       "      <td>False</td>\n",
       "      <td>False</td>\n",
       "      <td>False</td>\n",
       "    </tr>\n",
       "    <tr>\n",
       "      <th>4</th>\n",
       "      <td>True</td>\n",
       "      <td>False</td>\n",
       "      <td>False</td>\n",
       "      <td>True</td>\n",
       "    </tr>\n",
       "  </tbody>\n",
       "</table>\n",
       "</div>"
      ],
      "text/plain": [
       "   doorman  parking  garage  laundry\n",
       "0    False    False   False     True\n",
       "1     True    False   False     True\n",
       "2     True    False   False     True\n",
       "3    False    False   False    False\n",
       "4     True    False   False     True"
      ]
     },
     "execution_count": 18,
     "metadata": {},
     "output_type": "execute_result"
    }
   ],
   "source": [
    "# has apartment been renovated?\n",
    "df['renov'] = df['description'].str.contains(\"renov\")\n",
    "\n",
    "for w in ['doorman', 'parking', 'garage', 'laundry', \n",
    "          'Elevator', 'fitness center', 'dishwasher']:\n",
    "    df[w] = df['features'].str.contains(w)\n",
    "df[['doorman', 'parking', 'garage', 'laundry']].head(5)"
   ]
  },
  {
   "cell_type": "code",
   "execution_count": 19,
   "metadata": {},
   "outputs": [],
   "source": [
    "# count the number of strings\n",
    "df[\"num_desc_words\"] = df[\"description\"].apply(lambda x: len(x.split()))\n",
    "df[\"num_features\"] = df[\"features\"].apply(lambda x: len(x.split(\",\")))\n",
    "df[\"num_photos\"] = df[\"photos\"].apply(lambda x: len(x.split(\",\")))"
   ]
  },
  {
   "cell_type": "code",
   "execution_count": 20,
   "metadata": {},
   "outputs": [
    {
     "name": "stdout",
     "output_type": "stream",
     "text": [
      "OOB R^2 0.86261 using 4,771,434 tree nodes with 43.0 median tree height\n"
     ]
    }
   ],
   "source": [
    "# check if the new features will affect the performance of the model\n",
    "textfeatures = [\n",
    "    'num_photos', 'num_desc_words', 'num_features',\n",
    "    'doorman', 'parking', 'garage', 'laundry', \n",
    "    'Elevator', 'fitness center', 'dishwasher',\n",
    "    'renov'\n",
    "]\n",
    "X, y = df[textfeatures+numfeatures], df['price']\n",
    "rf, oob = test(X, y)"
   ]
  },
  {
   "cell_type": "code",
   "execution_count": 21,
   "metadata": {},
   "outputs": [
    {
     "data": {
      "image/png": "[encoded data removed]",
      "text/plain": [
       "<Figure size 288x237.6 with 1 Axes>"
      ]
     },
     "metadata": {
      "needs_background": "light"
     },
     "output_type": "display_data"
    }
   ],
   "source": [
    "# accuracy does not improve with these features and that the complexity of the model is higher, \n",
    "#but this does provide useful marketing information\n",
    "showimp(rf, X, y)"
   ]
  },
  {
   "cell_type": "markdown",
   "metadata": {},
   "source": [
    "### Synthesizing Numeric Features"
   ]
  },
  {
   "cell_type": "code",
   "execution_count": 22,
   "metadata": {},
   "outputs": [
    {
     "name": "stdout",
     "output_type": "stream",
     "text": [
      "OOB R^2 0.86748 using 2,433,350 tree nodes with 35.0 median tree height\n"
     ]
    }
   ],
   "source": [
    "# check if there is predictive power in the ratio of bedrooms to bathroom\n",
    "df[\"beds_to_baths\"] = df[\"bedrooms\"]/(df[\"bathrooms\"]+1) # avoid div by 0\n",
    "X, y = df[['beds_to_baths']+numfeatures], df['price']\n",
    "rf, oob = test(X, y)"
   ]
  },
  {
   "cell_type": "code",
   "execution_count": 23,
   "metadata": {},
   "outputs": [
    {
     "name": "stdout",
     "output_type": "stream",
     "text": [
      "OOB R^2 0.98614 using 1,316,846 tree nodes with 31.0 median tree height\n"
     ]
    }
   ],
   "source": [
    "# combining a numeric column with the target, such as the ratio of bedrooms to price:\n",
    "df[\"beds_per_price\"] = df[\"bedrooms\"] / df[\"price\"]\n",
    "X, y = df[['beds_per_price']+numfeatures], df['price']\n",
    "rf, oob = test(X, y)"
   ]
  },
  {
   "cell_type": "markdown",
   "metadata": {},
   "source": [
    "We have effectively copied the price column into the feature set, \n",
    "kind of like studying for a quiz by looking at the answers. \n",
    "This is a form of data leakage, which is a general term for the use of \n",
    "features that directly or indirectly hint at the target variable."
   ]
  },
  {
   "cell_type": "code",
   "execution_count": 24,
   "metadata": {},
   "outputs": [
    {
     "data": {
      "text/html": [
       "<div>\n",
       "<style scoped>\n",
       "    .dataframe tbody tr th:only-of-type {\n",
       "        vertical-align: middle;\n",
       "    }\n",
       "\n",
       "    .dataframe tbody tr th {\n",
       "        vertical-align: top;\n",
       "    }\n",
       "\n",
       "    .dataframe thead th {\n",
       "        text-align: right;\n",
       "    }\n",
       "</style>\n",
       "<table border=\"1\" class=\"dataframe\">\n",
       "  <thead>\n",
       "    <tr style=\"text-align: right;\">\n",
       "      <th></th>\n",
       "      <th>beds_per_price</th>\n",
       "      <th>bedrooms</th>\n",
       "    </tr>\n",
       "  </thead>\n",
       "  <tbody>\n",
       "    <tr>\n",
       "      <th>37012</th>\n",
       "      <td>0.000000</td>\n",
       "      <td>0</td>\n",
       "    </tr>\n",
       "    <tr>\n",
       "      <th>49207</th>\n",
       "      <td>0.000000</td>\n",
       "      <td>0</td>\n",
       "    </tr>\n",
       "    <tr>\n",
       "      <th>22462</th>\n",
       "      <td>0.000606</td>\n",
       "      <td>2</td>\n",
       "    </tr>\n",
       "    <tr>\n",
       "      <th>48269</th>\n",
       "      <td>0.000546</td>\n",
       "      <td>3</td>\n",
       "    </tr>\n",
       "    <tr>\n",
       "      <th>5117</th>\n",
       "      <td>0.000000</td>\n",
       "      <td>0</td>\n",
       "    </tr>\n",
       "  </tbody>\n",
       "</table>\n",
       "</div>"
      ],
      "text/plain": [
       "       beds_per_price  bedrooms\n",
       "37012        0.000000         0\n",
       "49207        0.000000         0\n",
       "22462        0.000606         2\n",
       "48269        0.000546         3\n",
       "5117         0.000000         0"
      ]
     },
     "execution_count": 24,
     "metadata": {},
     "output_type": "execute_result"
    }
   ],
   "source": [
    "# To illustrate how this leakage causes overfitting, \n",
    "# let's split out 20% of the data as a validation set and compute the beds_per_price feature for the training set:\n",
    "from sklearn.model_selection import train_test_split\n",
    "df_train, df_test = train_test_split(df, test_size=0.20)\n",
    "df_train = df_train.copy()\n",
    "df_train['beds_per_price'] = df_train['bedrooms'] / df_train[\"price\"]\n",
    "df_train[['beds_per_price','bedrooms']].head(5)"
   ]
  },
  {
   "cell_type": "markdown",
   "metadata": {},
   "source": [
    "Once we have the beds_per_price feature for the training set, we can compute a dictionary mapping bedrooms to the beds_per_price feature. Then, we can synthesize the beds_per_price in the validation set using map() on the bedrooms column:"
   ]
  },
  {
   "cell_type": "code",
   "execution_count": 25,
   "metadata": {},
   "outputs": [
    {
     "name": "stdout",
     "output_type": "stream",
     "text": [
      "33267    0.001143\n",
      "33886    0.000351\n",
      "1299     0.000000\n",
      "42103    0.000000\n",
      "29720    0.000667\n",
      "Name: beds_per_price, dtype: float64\n"
     ]
    }
   ],
   "source": [
    "bpmap = dict(zip(df_train[\"bedrooms\"],df_train[\"beds_per_price\"]))\n",
    "df_test = df_test.copy()\n",
    "df_test[\"beds_per_price\"] = df_test[\"bedrooms\"].map(bpmap)\n",
    "avg = np.mean(df_test['beds_per_price'])\n",
    "df_test['beds_per_price'].fillna(avg, inplace=True)\n",
    "print(df_test['beds_per_price'].head(5))"
   ]
  },
  {
   "cell_type": "code",
   "execution_count": 26,
   "metadata": {},
   "outputs": [
    {
     "name": "stdout",
     "output_type": "stream",
     "text": [
      "OOB R^2 -0.24689\n",
      "1,163,804 nodes, 30.0 median height\n"
     ]
    }
   ],
   "source": [
    "# train an RF model using just the training set and evaluate its performance using just the validation set:\n",
    "X_train, y_train = df_train[['beds_per_price']+numfeatures], df_train['price']\n",
    "X_test, y_test = df_test[['beds_per_price']+numfeatures], df_test['price']\n",
    "\n",
    "rf = RandomForestRegressor(n_estimators=100, n_jobs=-1)\n",
    "rf.fit(X_train, y_train)\n",
    "oob_overfit = rf.score(X_test, y_test) # don't test training set\n",
    "print(f\"OOB R^2 {oob_overfit:.5f}\")\n",
    "print(f\"{rfnnodes(rf):,d} nodes, {np.median(rfmaxdepths(rf))} median height\")"
   ]
  },
  {
   "cell_type": "markdown",
   "metadata": {},
   "source": [
    "### Target encoding categorical variables"
   ]
  },
  {
   "cell_type": "code",
   "execution_count": 27,
   "metadata": {},
   "outputs": [
    {
     "data": {
      "text/html": [
       "<div>\n",
       "<style scoped>\n",
       "    .dataframe tbody tr th:only-of-type {\n",
       "        vertical-align: middle;\n",
       "    }\n",
       "\n",
       "    .dataframe tbody tr th {\n",
       "        vertical-align: top;\n",
       "    }\n",
       "\n",
       "    .dataframe thead th {\n",
       "        text-align: right;\n",
       "    }\n",
       "</style>\n",
       "<table border=\"1\" class=\"dataframe\">\n",
       "  <thead>\n",
       "    <tr style=\"text-align: right;\">\n",
       "      <th></th>\n",
       "      <th>price</th>\n",
       "    </tr>\n",
       "    <tr>\n",
       "      <th>building_id</th>\n",
       "      <th></th>\n",
       "    </tr>\n",
       "  </thead>\n",
       "  <tbody>\n",
       "    <tr>\n",
       "      <th>0</th>\n",
       "      <td>3195.9321</td>\n",
       "    </tr>\n",
       "    <tr>\n",
       "      <th>00005cb939f9986300d987652c933e15</th>\n",
       "      <td>3399.0000</td>\n",
       "    </tr>\n",
       "    <tr>\n",
       "      <th>00024d77a43f0606f926e2312513845c</th>\n",
       "      <td>2000.0000</td>\n",
       "    </tr>\n",
       "    <tr>\n",
       "      <th>000ae4b7db298401cdae2b0ba1ea8146</th>\n",
       "      <td>2400.0000</td>\n",
       "    </tr>\n",
       "    <tr>\n",
       "      <th>0012f1955391bca600ec301035b97b65</th>\n",
       "      <td>3700.0000</td>\n",
       "    </tr>\n",
       "  </tbody>\n",
       "</table>\n",
       "</div>"
      ],
      "text/plain": [
       "                                      price\n",
       "building_id                                \n",
       "0                                 3195.9321\n",
       "00005cb939f9986300d987652c933e15  3399.0000\n",
       "00024d77a43f0606f926e2312513845c  2000.0000\n",
       "000ae4b7db298401cdae2b0ba1ea8146  2400.0000\n",
       "0012f1955391bca600ec301035b97b65  3700.0000"
      ]
     },
     "execution_count": 27,
     "metadata": {},
     "output_type": "execute_result"
    }
   ],
   "source": [
    "# The average rent price per building can be obtained by grouping the data by building_id and asking for the mean:\n",
    "df.groupby('building_id').mean()[['price']].head(5)"
   ]
  },
  {
   "cell_type": "code",
   "execution_count": 30,
   "metadata": {},
   "outputs": [
    {
     "name": "stdout",
     "output_type": "stream",
     "text": [
      "OOB R^2 0.87273 using 2,746,908 tree nodes with 39.0 median tree height\n"
     ]
    }
   ],
   "source": [
    "# To prevent overfitting, the idea is to compute the mean from a subset of the training data targets for each category.\n",
    "# Here's how to use the TargetEncoder object to encode three categorical variables from the data set and get an OOB score:\n",
    "from category_encoders.target_encoder import TargetEncoder\n",
    "df = df.reset_index() # not sure why TargetEncoder needs this but it does\n",
    "targetfeatures = ['building_id']\n",
    "encoder = TargetEncoder(cols=targetfeatures)\n",
    "encoder.fit(df, df['price'])\n",
    "df_encoded = encoder.transform(df, df['price'])\n",
    "\n",
    "X, y = df_encoded[targetfeatures+numfeatures], df['price']\n",
    "rf, oob = test(X, y)"
   ]
  },
  {
   "cell_type": "code",
   "execution_count": 31,
   "metadata": {},
   "outputs": [
    {
     "name": "stdout",
     "output_type": "stream",
     "text": [
      "0.862590 score 2,128,798 tree nodes and 35.0 median tree height\n"
     ]
    }
   ],
   "source": [
    "# to test the model with a validation set. Let's split out 20% as a validation set and get a baseline for numeric features:\n",
    "df_train, df_test = train_test_split(df, test_size=0.20)\n",
    "\n",
    "# TargetEncoder needs the resets, not sure why\n",
    "df_train = df_train.reset_index(drop=True)\n",
    "df_test = df_test.reset_index(drop=True)\n",
    "\n",
    "X_train = df_train[numfeatures]\n",
    "y_train = df_train['price']\n",
    "X_test = df_test[numfeatures]\n",
    "y_test = df_test['price']\n",
    "\n",
    "rf = RandomForestRegressor(n_estimators=100, n_jobs=-1)\n",
    "rf.fit(X_train, y_train)\n",
    "s_validation = rf.score(X_test, y_test)\n",
    "print(f\"{s_validation:4f} score {rfnnodes(rf):,d} tree nodes and {np.median(rfmaxdepths(rf))} median tree height\")"
   ]
  },
  {
   "cell_type": "code",
   "execution_count": 32,
   "metadata": {},
   "outputs": [
    {
     "name": "stdout",
     "output_type": "stream",
     "text": [
      "0.8541 score 2,383,930 tree nodes and 38.0 median tree height\n"
     ]
    }
   ],
   "source": [
    "# With that baseline, let's see what happens when we properly target encode the validation set, \n",
    "# that is, using only data from the training set (warning: this takes several minutes to execute):\n",
    "enc = TargetEncoder(cols=targetfeatures)\n",
    "enc.fit(df_train, df_train['price'])\n",
    "df_train_encoded = enc.transform(df_train, df_train['price'])\n",
    "df_test_encoded = enc.transform(df_test)\n",
    "\n",
    "X_train = df_train_encoded[targetfeatures+numfeatures]\n",
    "y_train = df_train_encoded['price']\n",
    "X_test = df_test_encoded[targetfeatures+numfeatures]\n",
    "y_test = df_test_encoded['price']\n",
    "\n",
    "rf = RandomForestRegressor(n_estimators=100, n_jobs=-1)\n",
    "rf.fit(X_train, y_train)\n",
    "s_tenc_validation = rf.score(X_test, y_test)\n",
    "print(f\"{s_tenc_validation:.4f} score {rfnnodes(rf):,d} tree nodes and {np.median(rfmaxdepths(rf))} median tree height\")"
   ]
  },
  {
   "cell_type": "markdown",
   "metadata": {},
   "source": [
    "### Injecting external neighborhood info\n",
    "Forbes magazine has an article, The Top 10 New York City Neighborhoods to Live In, According to the Locals, from which we can get neighborhood names. Then, using a mapping website, we can estimate the longitude and latitude of those neighborhoods and record them like this:"
   ]
  },
  {
   "cell_type": "code",
   "execution_count": 33,
   "metadata": {},
   "outputs": [],
   "source": [
    "hoods = {\n",
    "    \"hells\" : [40.7622, -73.9924],\n",
    "    \"astoria\" : [40.7796684, -73.9215888],\n",
    "    \"Evillage\" : [40.723163774, -73.984829394],\n",
    "    \"Wvillage\" : [40.73578, -74.00357],\n",
    "    \"LowerEast\" : [40.715033, -73.9842724],\n",
    "    \"UpperEast\" : [40.768163594, -73.959329496],\n",
    "    \"ParkSlope\" : [40.672404, -73.977063],\n",
    "    \"Prospect Park\" : [40.93704, -74.17431],\n",
    "    \"Crown Heights\" : [40.657830702, -73.940162906],\n",
    "    \"financial\" : [40.703830518, -74.005666644],\n",
    "    \"brooklynheights\" : [40.7022621909, -73.9871760513],\n",
    "    \"gowanus\" : [40.673, -73.997]\n",
    "}"
   ]
  },
  {
   "cell_type": "code",
   "execution_count": 34,
   "metadata": {},
   "outputs": [],
   "source": [
    "# To synthesize new features, we compute the so-called Manhattan distance (also called L1 distance)\n",
    "# from each apartment to each neighborhood center\n",
    "for hood,loc in hoods.items():\n",
    "    # compute manhattan distance\n",
    "    df[hood] = np.abs(df.latitude - loc[0]) + np.abs(df.longitude - loc[1])"
   ]
  },
  {
   "cell_type": "code",
   "execution_count": 35,
   "metadata": {},
   "outputs": [
    {
     "name": "stdout",
     "output_type": "stream",
     "text": [
      "OOB R^2 0.87268 using 2,411,936 tree nodes with 43.0 median tree height\n"
     ]
    }
   ],
   "source": [
    "# train again the model:\n",
    "hoodfeatures = list(hoods.keys())\n",
    "X, y = df[numfeatures+hoodfeatures], df['price']\n",
    "rf, oob_hood = test(X, y)"
   ]
  },
  {
   "cell_type": "code",
   "execution_count": 36,
   "metadata": {},
   "outputs": [
    {
     "name": "stdout",
     "output_type": "stream",
     "text": [
      "0.8700 score 2,421,922 tree nodes and 40.0 median tree height\n"
     ]
    }
   ],
   "source": [
    "# The new proximity features effectively triangulate an apartment relative to desirable neighborhoods, \n",
    "# which means we probably don't need apartment longitude and latitude anymore. \n",
    "# Dropping longitude and latitude and retraining a model shows a similar OOB score and shallower trees:\n",
    "X = X.drop(['longitude','latitude'],axis=1)\n",
    "rf = RandomForestRegressor(n_estimators=100, n_jobs=-1, oob_score=True)\n",
    "rf.fit(X, y)\n",
    "print(f\"{rf.oob_score_:.4f} score {rfnnodes(rf):,d} tree nodes and {np.median(rfmaxdepths(rf))} median tree height\")"
   ]
  },
  {
   "cell_type": "code",
   "execution_count": 37,
   "metadata": {},
   "outputs": [
    {
     "name": "stdout",
     "output_type": "stream",
     "text": [
      "OOB R^2 0.87931 using 4,839,556 tree nodes with 44.0 median tree height\n"
     ]
    }
   ],
   "source": [
    "# FINAL MODEL: combining all the feature engineering techniques for categorical variables to numeric features\n",
    "X = df[['interest_level']+textfeatures+hoodfeatures+numfeatures]\n",
    "rf, oob_combined = test(X, y)"
   ]
  },
  {
   "cell_type": "code",
   "execution_count": null,
   "metadata": {},
   "outputs": [],
   "source": []
  }
 ],
 "metadata": {
  "kernelspec": {
   "display_name": "Python 3",
   "language": "python",
   "name": "python3"
  },
  "language_info": {
   "codemirror_mode": {
    "name": "ipython",
    "version": 3
   },
   "file_extension": ".py",
   "mimetype": "text/x-python",
   "name": "python",
   "nbconvert_exporter": "python",
   "pygments_lexer": "ipython3",
   "version": "3.7.3"
  }
 },
 "nbformat": 4,
 "nbformat_minor": 2
}
